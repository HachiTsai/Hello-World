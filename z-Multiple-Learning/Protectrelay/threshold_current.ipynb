{
 "cells": [
  {
   "cell_type": "markdown",
   "id": "056362ba",
   "metadata": {},
   "source": [
    "# 過電流延時保護模擬 (ANSI 51)\n",
    "\n",
    "本模擬為保護電驛邏輯實作：\n",
    "- 電流超過閾值 (`threshold_current`) 時不立即動作\n",
    "- 若超過時間 (`delay_time`) 持續發生 → 觸發跳脫\n",
    "\n",
    "---\n",
    "\n",
    "保護參數設定：\n",
    "- 閾值：100A\n",
    "- 延時：0.5 秒\n",
    "- 取樣間隔：0.1 秒\n"
   ]
  },
  {
   "cell_type": "markdown",
   "id": "179806c9",
   "metadata": {},
   "source": [
    "# 第二格：參數設定 + 樣本電流資料\n"
   ]
  },
  {
   "cell_type": "code",
   "execution_count": 46,
   "id": "c9b7ac6b",
   "metadata": {},
   "outputs": [],
   "source": [
    "threshold_current = 100  # 閾值 (A)\n",
    "delay_time = 0.4         # 延時 (s)\n",
    "sample_interval = 0.1    # 取樣間隔 (s)\n",
    "\n",
    "# 模擬電流樣本（你可以自由修改）\n",
    "current_samples = [95, 105, 110, 85, 107, 98, 94]\n"
   ]
  },
  {
   "cell_type": "markdown",
   "id": "3dc13385",
   "metadata": {},
   "source": [
    "# 第三格：邏輯判斷 + 跳脫動作模擬\n"
   ]
  },
  {
   "cell_type": "code",
   "execution_count": 47,
   "id": "9832bca9",
   "metadata": {},
   "outputs": [
    {
     "name": "stdout",
     "output_type": "stream",
     "text": [
      "時刻 0：電流 = 95 A\n",
      " ➜ 電流恢復正常，延時重置\n",
      "時刻 1：電流 = 105 A\n",
      " ➜ 超載持續時間：0.10 秒\n",
      "時刻 2：電流 = 110 A\n",
      " ➜ 超載持續時間：0.20 秒\n",
      "時刻 3：電流 = 85 A\n",
      " ➜ 電流恢復正常，延時重置\n",
      "時刻 4：電流 = 107 A\n",
      " ➜ 超載持續時間：0.10 秒\n",
      "時刻 5：電流 = 98 A\n",
      " ➜ 電流恢復正常，延時重置\n",
      "時刻 6：電流 = 94 A\n",
      " ➜ 電流恢復正常，延時重置\n"
     ]
    }
   ],
   "source": [
    "overcurrent_duration = 0\n",
    "trip_triggered = False\n",
    "\n",
    "for idx, current in enumerate(current_samples):\n",
    "    print(f\"時刻 {idx}：電流 = {current} A\")\n",
    "\n",
    "    if current > threshold_current:\n",
    "        overcurrent_duration += sample_interval\n",
    "        print(f\" ➜ 超載持續時間：{overcurrent_duration:.2f} 秒\")\n",
    "    else:\n",
    "        overcurrent_duration = 0\n",
    "        print(\" ➜ 電流恢復正常，延時重置\")\n",
    "\n",
    "    if overcurrent_duration >= delay_time:\n",
    "        trip_triggered = True\n",
    "        print(\" ⚡ 跳脫動作觸發！\")\n",
    "        break\n"
   ]
  },
  {
   "cell_type": "markdown",
   "id": "4ea8b1fb",
   "metadata": {},
   "source": [
    "# 第四格（可選）：電流走勢圖（用 matplotlib）\n"
   ]
  },
  {
   "cell_type": "code",
   "execution_count": 48,
   "id": "6255ca6b",
   "metadata": {},
   "outputs": [
    {
     "data": {
      "image/png": "[encoded data removed]",
      "text/plain": [
       "<Figure size 640x480 with 1 Axes>"
      ]
     },
     "metadata": {},
     "output_type": "display_data"
    }
   ],
   "source": [
    "import matplotlib.pyplot as plt\n",
    "\n",
    "plt.plot(current_samples, marker='o', label='電流樣本')\n",
    "plt.axhline(y=threshold_current, color='r', linestyle='--', label='閾值')\n",
    "plt.xlabel('時刻')\n",
    "plt.ylabel('電流 (A)')\n",
    "plt.title('過電流監控走勢圖')\n",
    "plt.legend()\n",
    "plt.grid(True)\n",
    "plt.show()\n"
   ]
  },
  {
   "cell_type": "markdown",
   "id": "9e1b6348",
   "metadata": {},
   "source": [
    "# 後續筆記\n",
    "\n",
    "這個問題問得非常關鍵，Hachi！讓我以「工程師教學模式」逐步拆解你提出的邏輯關係：電流樣本 → 判斷是否過載 → 計算持續時間。\n",
    "\n",
    "---\n",
    "\n",
    "📌 **核心概念：overcurrent_duration 是累加「持續超載的時間」**\n",
    "\n",
    "在模擬程式裡，我們每次「取樣」電流的數值，就像保護電驛每 0.1 秒偵測一次電流變化。如果當次的 `current` 超過設定的 `threshold_current`（例如 100A），就代表目前處於「過載狀態」，因此要開始累積時間。\n",
    "\n",
    "---\n",
    "\n",
    "🔍 **程式中的換算步驟：**\n",
    "\n",
    "假設我們取樣間隔為 `sample_interval = 0.1` 秒：\n",
    "\n",
    "1. ✏️ 如果 `current = 105` 且 `threshold = 100`\n",
    "   → 觸發判斷條件 `current > threshold_current`\n",
    "   → 開始累加：`overcurrent_duration += 0.1` → 目前累積 0.1 秒\n",
    "\n",
    "2. ✏️ 下一筆 `current = 110`\n",
    "   → 再加 0.1 秒 → 累積到 0.2 秒\n",
    "\n",
    "3. ✏️ 只要連續超過閾值，每取樣一次就加一次 `0.1 秒`\n",
    "\n",
    "4. ✏️ 如果某一筆 `current = 97`（低於閾值）\n",
    "   → 條件不成立 → `overcurrent_duration` 立即歸零\n",
    "\n",
    "📌 **實務對應：**\n",
    "這就是延時保護的邏輯——只有「持續性」異常才會跳脫，例如設定延時為 `0.5 秒`，當 `overcurrent_duration ≥ 0.5`，保護電驛才觸發。\n",
    "\n",
    "---\n",
    "\n",
    "🎯 **總結邏輯公式：**\n",
    "\n",
    "```text\n",
    "如果 current[i] > threshold_current：\n",
    "    overcurrent_duration += sample_interval\n",
    "否則：\n",
    "    overcurrent_duration = 0\n",
    "當 overcurrent_duration ≥ delay_time：\n",
    "    觸發跳脫 trip\n",
    "```\n",
    "\n",
    "你也可以在 Jupyter Notebook 中加上輸出記錄 `overcurrent_duration` 的圖表，用折線圖清楚標示持續累積時間與跳脫點。\n",
    "\n",
    "如果你有興趣，我可以幫你擴充這段模擬，讓它具備「事件記錄」、「警告訊號」或「Trip Log」的功能！⚙️📘 要不要我們下一步來做「動作紀錄表」？例如跳脫時間、判斷條件與操作對象？"
   ]
  },
  {
   "cell_type": "markdown",
   "id": "91176f8c",
   "metadata": {},
   "source": [
    "# 🧪 Conda 快速操作筆記\n",
    "\n",
    "本筆記整理常用 Conda 指令與操作技巧，適用於 Python 環境管理、專案部署與 VSCode 整合。\n",
    "\n",
    "---\n",
    "\n",
    "## 🎯 基本環境操作\n",
    "\n",
    "| 功能       | 指令範例                                      |\n",
    "|------------|-----------------------------------------------|\n",
    "| 查看所有環境 | `conda info --envs`                           |\n",
    "| 建立新環境   | `conda create -n dcs-dev python=3.10`         |\n",
    "| 刪除環境     | `conda remove --name 舊環境名稱 --all`        |\n",
    "| 啟用環境     | `conda activate 環境名稱`                     |\n",
    "| 關閉環境     | `conda deactivate`                            |\n",
    "\n",
    "---\n",
    "\n",
    "## 📦 套件管理\n",
    "\n",
    "| 功能         | 指令範例                              |\n",
    "|--------------|---------------------------------------|\n",
    "| 安裝套件     | `conda install pandas` 或 `pip install plotly` |\n",
    "| 移除套件     | `conda remove matplotlib`             |\n",
    "| 更新套件     | `conda update numpy`                  |\n",
    "| 查詢套件     | `conda list`、`conda search openpyxl` |\n",
    "| 更新 Conda 本身 | `conda update -n base conda`            |\n",
    "\n",
    "---\n",
    "\n",
    "## 🔧 環境備份與複製\n",
    "\n",
    "| 功能           | 指令範例                                         |\n",
    "|----------------|--------------------------------------------------|\n",
    "| 匯出為 YAML 檔   | `conda env export > environment.yml`            |\n",
    "| 從 YAML 匯入環境 | `conda env create -f environment.yml`           |\n",
    "| 複製環境        | `conda create --name new-env --clone old-env`   |\n",
    "\n",
    "---\n",
    "\n",
    "## 💼 VSCode 整合技巧\n",
    "\n",
    "### 選擇 Python 解譯器\n",
    "- 在 VSCode 中按 `Ctrl + Shift + P`（或 macOS 為 `Cmd + Shift + P`）\n",
    "- 選擇 `Python: Select Interpreter`\n",
    "- 選擇對應的 Conda 路徑，例如 `/opt/miniconda3/envs/dcs-dev/bin/python`\n",
    "\n",
    "### 設定 `.vscode/settings.json`\n",
    " ```json\n",
    "{\n",
    "  \"python.defaultInterpreterPath\": \"/opt/miniconda3/envs/dcs-dev/bin/python\"\n",
    "}"
   ]
  }
 ],
 "metadata": {
  "kernelspec": {
   "display_name": "Python 3",
   "language": "python",
   "name": "python3"
  },
  "language_info": {
   "codemirror_mode": {
    "name": "ipython",
    "version": 3
   },
   "file_extension": ".py",
   "mimetype": "text/x-python",
   "name": "python",
   "nbconvert_exporter": "python",
   "pygments_lexer": "ipython3",
   "version": "3.9.6"
  }
 },
 "nbformat": 4,
 "nbformat_minor": 5
}
