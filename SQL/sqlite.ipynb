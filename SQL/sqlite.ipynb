{
 "cells": [
  {
   "cell_type": "code",
   "execution_count": 4,
   "id": "911ae4e9",
   "metadata": {},
   "outputs": [],
   "source": [
    "import sqlite3\n",
    "import pandas as pd\n",
    "\n",
    "# 連接到資料庫\n",
    "conn = sqlite3.connect('../SQL/mysql/database/hi.db')\n",
    "\n",
    "# 執行 SQL 並直接顯示為表格\n",
    "df = pd.read_sql(\"SELECT * FROM users\", conn)\n",
    "df.head()\n",
    "\n",
    "# 提交修改（如 INSERT/UPDATE）\n",
    "conn.execute(\"INSERT INTO users (name) VALUES ('Alice')\")\n",
    "conn.commit()\n"
   ]
  }
 ],
 "metadata": {
  "kernelspec": {
   "display_name": "myenv",
   "language": "python",
   "name": "python3"
  },
  "language_info": {
   "codemirror_mode": {
    "name": "ipython",
    "version": 3
   },
   "file_extension": ".py",
   "mimetype": "text/x-python",
   "name": "python",
   "nbconvert_exporter": "python",
   "pygments_lexer": "ipython3",
   "version": "3.11.13"
  }
 },
 "nbformat": 4,
 "nbformat_minor": 5
}
