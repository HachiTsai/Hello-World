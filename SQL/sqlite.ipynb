{
 "cells": [
  {
   "cell_type": "code",
   "execution_count": null,
   "id": "911ae4e9",
   "metadata": {},
   "outputs": [
    {
     "ename": "",
     "evalue": "",
     "output_type": "error",
     "traceback": [
      "\u001b[1;31m執行具有 'Python 3.13.5' 的儲存格需要 ipykernel 套件。\n",
      "\u001b[1;31m將 'ipykernel' 安裝到 Python 環境中。\n",
      "\u001b[1;31m命令: '/opt/homebrew/bin/python3 -m pip install ipykernel -U --user --force-reinstall'"
     ]
    }
   ],
   "source": [
    "import sqlite3\n",
    "\n",
    "# 快速測試連接\n",
    "try:\n",
    "    conn = sqlite3.connect(':memory:')  # 記憶體資料庫\n",
    "    print(\"SQLite連接成功！\")\n",
    "    conn.close()\n",
    "except sqlite3.Error as e:\n",
    "    print(f\"連接失敗: {e}\")\n"
   ]
  }
 ],
 "metadata": {
  "kernelspec": {
   "display_name": "Python 3",
   "language": "python",
   "name": "python3"
  },
  "language_info": {
   "name": "python",
   "version": "3.13.5"
  }
 },
 "nbformat": 4,
 "nbformat_minor": 5
}
