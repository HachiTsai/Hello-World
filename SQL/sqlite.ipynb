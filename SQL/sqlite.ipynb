{
 "cells": [
  {
   "cell_type": "markdown",
   "id": "f860ad5b",
   "metadata": {},
   "source": [
    "# 開始安裝"
   ]
  },
  {
   "cell_type": "code",
   "execution_count": null,
   "id": "32fe3809",
   "metadata": {},
   "outputs": [],
   "source": [
    "%pip install ipython-sql pandas  "
   ]
  },
  {
   "cell_type": "code",
   "execution_count": 6,
   "id": "911ae4e9",
   "metadata": {},
   "outputs": [],
   "source": [
    "import sqlite3\n",
    "import pandas as pd\n",
    "\n",
    "# 資料庫路徑（根據實際位置調整）\n",
    "db_path = \"../SQL/mysql/database/hi.db\"\n",
    "\n",
    "# 連接到 SQLite 資料庫\n",
    "conn = sqlite3.connect(db_path)\n"
   ]
  },
  {
   "cell_type": "markdown",
   "id": "604db4d4",
   "metadata": {},
   "source": [
    "# 練習區"
   ]
  },
  {
   "cell_type": "markdown",
   "id": "21d2f43e",
   "metadata": {},
   "source": [
    "## select "
   ]
  },
  {
   "cell_type": "code",
   "execution_count": 11,
   "id": "1163f19a",
   "metadata": {},
   "outputs": [
    {
     "data": {
      "text/html": [
       "<div>\n",
       "<style scoped>\n",
       "    .dataframe tbody tr th:only-of-type {\n",
       "        vertical-align: middle;\n",
       "    }\n",
       "\n",
       "    .dataframe tbody tr th {\n",
       "        vertical-align: top;\n",
       "    }\n",
       "\n",
       "    .dataframe thead th {\n",
       "        text-align: right;\n",
       "    }\n",
       "</style>\n",
       "<table border=\"1\" class=\"dataframe\">\n",
       "  <thead>\n",
       "    <tr style=\"text-align: right;\">\n",
       "      <th></th>\n",
       "      <th>id</th>\n",
       "      <th>name</th>\n",
       "      <th>email</th>\n",
       "      <th>created_at</th>\n",
       "      <th>age</th>\n",
       "    </tr>\n",
       "  </thead>\n",
       "  <tbody>\n",
       "    <tr>\n",
       "      <th>0</th>\n",
       "      <td>1</td>\n",
       "      <td>Alice</td>\n",
       "      <td>alice@example.com</td>\n",
       "      <td>2025-08-14 13:35:46</td>\n",
       "      <td>25</td>\n",
       "    </tr>\n",
       "  </tbody>\n",
       "</table>\n",
       "</div>"
      ],
      "text/plain": [
       "   id   name              email           created_at  age\n",
       "0   1  Alice  alice@example.com  2025-08-14 13:35:46   25"
      ]
     },
     "execution_count": 11,
     "metadata": {},
     "output_type": "execute_result"
    }
   ],
   "source": [
    "# 執行查詢並用 Pandas 顯示結果  \n",
    "query = \"SELECT * FROM users WHERE age < 30;\"  \n",
    "df = pd.read_sql(query, conn)  \n",
    "df"
   ]
  }
 ],
 "metadata": {
  "kernelspec": {
   "display_name": "myenv",
   "language": "python",
   "name": "python3"
  },
  "language_info": {
   "codemirror_mode": {
    "name": "ipython",
    "version": 3
   },
   "file_extension": ".py",
   "mimetype": "text/x-python",
   "name": "python",
   "nbconvert_exporter": "python",
   "pygments_lexer": "ipython3",
   "version": "3.11.13"
  }
 },
 "nbformat": 4,
 "nbformat_minor": 5
}
