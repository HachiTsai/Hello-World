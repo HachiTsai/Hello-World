{
 "cells": [
  {
   "cell_type": "code",
   "execution_count": 3,
   "id": "911ae4e9",
   "metadata": {},
   "outputs": [
    {
     "name": "stdout",
     "output_type": "stream",
     "text": [
      "SQLite連接成功！\n"
     ]
    }
   ],
   "source": [
    "#需要使用(venv)python 3.9.6\n",
    "import sqlite3\n",
    "\n",
    "# 快速測試連接\n",
    "try:\n",
    "    conn = sqlite3.connect(':memory:')  # 記憶體資料庫\n",
    "    print(\"SQLite連接成功！\")\n",
    "    conn.close()\n",
    "except sqlite3.Error as e:\n",
    "    print(f\"連接失敗: {e}\")\n"
   ]
  }
 ],
 "metadata": {
  "kernelspec": {
   "display_name": "Python 3",
   "language": "python",
   "name": "python3"
  },
  "language_info": {
   "codemirror_mode": {
    "name": "ipython",
    "version": 3
   },
   "file_extension": ".py",
   "mimetype": "text/x-python",
   "name": "python",
   "nbconvert_exporter": "python",
   "pygments_lexer": "ipython3",
   "version": "3.9.6"
  }
 },
 "nbformat": 4,
 "nbformat_minor": 5
}
