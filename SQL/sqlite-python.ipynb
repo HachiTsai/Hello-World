{
 "cells": [
  {
   "cell_type": "markdown",
   "id": "f860ad5b",
   "metadata": {},
   "source": [
    "# 開始安裝"
   ]
  },
  {
   "cell_type": "code",
   "execution_count": null,
   "id": "32fe3809",
   "metadata": {},
   "outputs": [],
   "source": [
    "#20250828執行過\n",
    "%pip install ipython-sql pandas sqlalchemy"
   ]
  },
  {
   "cell_type": "code",
   "execution_count": null,
   "id": "d8cf36a5",
   "metadata": {},
   "outputs": [],
   "source": [
    "%load_ext sql"
   ]
  },
  {
   "cell_type": "code",
   "execution_count": null,
   "id": "911ae4e9",
   "metadata": {},
   "outputs": [],
   "source": [
    "import sqlite3\n",
    "import pandas as pd\n",
    "\n",
    "# 資料庫路徑（根據實際位置調整）\n",
    "db_path = \"../SQL/mysql/database/hi.db\"\n",
    "\n",
    "# 連接到 SQLite 資料庫\n",
    "conn = sqlite3.connect(db_path)\n"
   ]
  },
  {
   "cell_type": "markdown",
   "id": "604db4d4",
   "metadata": {},
   "source": [
    "# 練習區"
   ]
  },
  {
   "cell_type": "markdown",
   "id": "c4ebe35e",
   "metadata": {},
   "source": [
    "## import內容和DB路經"
   ]
  },
  {
   "cell_type": "code",
   "execution_count": null,
   "id": "e4b54584",
   "metadata": {},
   "outputs": [],
   "source": [
    "import pandas as pd\n",
    "import sqlite3\n",
    "\n",
    "# 建立連線\n",
    "db_path = \"../SQL/mysql/database/hi.db\"\n",
    "conn = sqlite3.connect(db_path)"
   ]
  },
  {
   "cell_type": "markdown",
   "id": "52e8caf6",
   "metadata": {},
   "source": [
    "## 查詢"
   ]
  },
  {
   "cell_type": "code",
   "execution_count": null,
   "id": "1163f19a",
   "metadata": {},
   "outputs": [],
   "source": [
    "# 執行查詢並用 Pandas 顯示結果  \n",
    "import pandas as pd\n",
    "import sqlite3\n",
    "\n",
    "# 建立連線\n",
    "db_path = \"../SQL/mysql/database/hi.db\"\n",
    "conn = sqlite3.connect(db_path)\n",
    "\n",
    "query = \"SELECT * FROM Daily_report WHERE tag like '%sql%';\"  \n",
    "df = pd.read_sql(query, conn)  \n",
    "df"
   ]
  },
  {
   "cell_type": "markdown",
   "id": "f59fc806",
   "metadata": {},
   "source": [
    "## 插入單筆新資料"
   ]
  },
  {
   "cell_type": "code",
   "execution_count": 36,
   "id": "40844278",
   "metadata": {},
   "outputs": [
    {
     "name": "stdout",
     "output_type": "stream",
     "text": [
      "   id content                                   reference                tag               created_at          \n",
      "0  9             學習如何使用 SQLite 與 Python 進行資料庫操作  SQL/sqlite-python.ipynb  ipython-sql/sql/  2025-08-28 14:46:34\n",
      "1  8   失敗=>使用jupyter寫sqlite语法，改用python連接db並插入資料  SQL/sqlite-python.ipynb  ipython-sql/sql/  2025-08-28 14:28:42\n",
      "2  7                         使用jupyter寫sqlite語法  SQL/sqlite-python.ipynb  ipython-sql/sql/  2025-08-28 14:23:39\n"
     ]
    }
   ],
   "source": [
    "import pandas as pd\n",
    "import sqlite3\n",
    "\n",
    "# 建立連線\n",
    "db_path = \"../SQL/mysql/database/hi.db\"\n",
    "conn = sqlite3.connect(db_path)\n",
    "\n",
    "# 設定顯示選項 \n",
    "pd.set_option('display.max_rows', None)  \n",
    "pd.set_option('display.max_columns', None)  \n",
    "pd.set_option('display.width', 150)  \n",
    "pd.set_option('display.max_colwidth', 60)\n",
    "pd.set_option('display.expand_frame_repr', True) \n",
    "pd.set_option('display.colheader_justify', 'left')  \n",
    "\n",
    "# # 建立 DataFrame\n",
    "# df = pd.DataFrame({\n",
    "#     'content': ['學習如何使用 SQLite 與 Python 進行資料庫操作'],\n",
    "#     'reference': ['SQL/sqlite-python.ipynb'],\n",
    "#     'tag': ['ipython-sql/sql/']\n",
    "# })\n",
    "\n",
    "# # 插入資料\n",
    "# df.to_sql('Daily_report', conn, if_exists='append', index=False)\n",
    "\n",
    "# 讀取並顯示最新插入的資料  \n",
    "result = pd.read_sql_query(\"SELECT * FROM Daily_report ORDER BY id DESC LIMIT 3\", conn)  # 讀取最新一筆資料\n",
    "print(result)  \n",
    "\n",
    "\n",
    "# 關閉連線\n",
    "conn.close()\n"
   ]
  },
  {
   "cell_type": "code",
   "execution_count": null,
   "id": "b7cbc195",
   "metadata": {},
   "outputs": [],
   "source": [
    "import pandas as pd\n",
    "import sqlite3\n",
    "\n",
    "# 建立連線\n",
    "conn = sqlite3.connect('../SQL/mysql/database/hi.db')\n",
    "\n",
    "# 讀取最新一筆資料\n",
    "result = pd.read_sql_query(\"SELECT * FROM Daily_report ORDER BY id DESC LIMIT 1\", conn)\n",
    "\n",
    "# 手動左對齊顯示\n",
    "def left_align_display(df):\n",
    "    # 獲取每列最大寬度\n",
    "    col_widths = {col: max(df[col].astype(str).str.len().max(), len(col)) for col in df.columns}\n",
    "    \n",
    "    # 打印表頭\n",
    "    header = \" \".join(f\"{col:<{col_widths[col]}}\" for col in df.columns)\n",
    "    print(header)\n",
    "    print(\"-\" * len(header))\n",
    "    \n",
    "    # 打印資料\n",
    "    for _, row in df.iterrows():\n",
    "        row_str = \" \".join(f\"{str(row[col]):<{col_widths[col]}}\" for col in df.columns)\n",
    "        print(row_str)\n",
    "\n",
    "# 顯示\n",
    "left_align_display(result)\n"
   ]
  },
  {
   "cell_type": "markdown",
   "id": "157adaaf",
   "metadata": {},
   "source": [
    "## 插入多筆資料"
   ]
  },
  {
   "cell_type": "code",
   "execution_count": null,
   "id": "bb4818a6",
   "metadata": {},
   "outputs": [],
   "source": [
    "import pandas as pd\n",
    "import sqlite3\n",
    "\n",
    "# 建立連線\n",
    "db_path = \"../SQL/mysql/database/hi.db\"\n",
    "conn = sqlite3.connect(db_path)\n",
    "\n",
    "# 建立包含多筆資料的 DataFrame\n",
    "df = pd.DataFrame({\n",
    "    'content': [\n",
    "        '使用jupyter寫sqlite语法', \n",
    "        '學習pandas插入sqlite', \n",
    "        'SQLite資料庫操作'\n",
    "    ],\n",
    "    'reference': [\n",
    "        'SQL/sqlite-python.ipynb', \n",
    "        'pandas/sqlite-insert.ipynb', \n",
    "        'database/sqlite-tutorial.md'\n",
    "    ],\n",
    "    'tag': [\n",
    "        'ipython-sql/sql/', \n",
    "        'pandas/database', \n",
    "        'tutorial/sqlite'\n",
    "    ]\n",
    "})\n",
    "\n",
    "# 插入多筆資料\n",
    "df.to_sql('Daily_report', conn, if_exists='append', index=False) # append表示新增資料，不覆蓋原有資料。index=False表示不插入DataFrame的索引欄位。\n",
    "\n",
    "# 關閉連線\n",
    "conn.close()\n"
   ]
  }
 ],
 "metadata": {
  "kernelspec": {
   "display_name": "myenv-mac",
   "language": "python",
   "name": "python3"
  },
  "language_info": {
   "codemirror_mode": {
    "name": "ipython",
    "version": 3
   },
   "file_extension": ".py",
   "mimetype": "text/x-python",
   "name": "python",
   "nbconvert_exporter": "python",
   "pygments_lexer": "ipython3",
   "version": "3.13.5"
  }
 },
 "nbformat": 4,
 "nbformat_minor": 5
}
