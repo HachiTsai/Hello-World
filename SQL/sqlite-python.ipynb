{
 "cells": [
  {
   "cell_type": "markdown",
   "id": "f860ad5b",
   "metadata": {},
   "source": [
    "# 開始安裝"
   ]
  },
  {
   "cell_type": "code",
   "execution_count": null,
   "id": "32fe3809",
   "metadata": {},
   "outputs": [],
   "source": [
    "#20250828執行過\n",
    "%pip install ipython-sql pandas sqlalchemy"
   ]
  },
  {
   "cell_type": "code",
   "execution_count": null,
   "id": "d8cf36a5",
   "metadata": {},
   "outputs": [],
   "source": [
    "#not sure\n",
    "%load_ext sql"
   ]
  },
  {
   "cell_type": "code",
   "execution_count": null,
   "id": "911ae4e9",
   "metadata": {},
   "outputs": [],
   "source": [
    "import sqlite3\n",
    "import pandas as pd\n",
    "\n",
    "# 資料庫路徑（根據實際位置調整）\n",
    "db_path = \"../SQL/mysql/database/hi.db\"\n",
    "\n",
    "# 連接到 SQLite 資料庫\n",
    "conn = sqlite3.connect(db_path)\n"
   ]
  },
  {
   "cell_type": "markdown",
   "id": "604db4d4",
   "metadata": {},
   "source": [
    "# 練習區"
   ]
  },
  {
   "cell_type": "markdown",
   "id": "c4ebe35e",
   "metadata": {},
   "source": [
    "## import內容和DB路經"
   ]
  },
  {
   "cell_type": "code",
   "execution_count": null,
   "id": "e4b54584",
   "metadata": {},
   "outputs": [],
   "source": [
    "import pandas as pd\n",
    "import sqlite3\n",
    "\n",
    "# 建立連線\n",
    "db_path = \"../SQL/mysql/database/hi.db\"\n",
    "conn = sqlite3.connect(db_path)\n",
    "\n",
    "conn.close()  "
   ]
  },
  {
   "cell_type": "markdown",
   "id": "52e8caf6",
   "metadata": {},
   "source": [
    "## 查詢"
   ]
  },
  {
   "cell_type": "code",
   "execution_count": null,
   "id": "1163f19a",
   "metadata": {},
   "outputs": [],
   "source": [
    "# 執行查詢並用 Pandas 顯示結果  \n",
    "import pandas as pd\n",
    "import sqlite3\n",
    "\n",
    "# 建立連線\n",
    "db_path = \"../SQL/mysql/database/hi.db\"\n",
    "conn = sqlite3.connect(db_path)\n",
    "\n",
    "query = \"SELECT * FROM Daily_report WHERE id = '15';\"  \n",
    "df = pd.read_sql(query, conn)  \n",
    "df\n",
    "conn.close()  "
   ]
  },
  {
   "cell_type": "markdown",
   "id": "f59fc806",
   "metadata": {},
   "source": [
    "## 插入單筆新資料"
   ]
  },
  {
   "cell_type": "code",
   "execution_count": 1,
   "id": "40844278",
   "metadata": {},
   "outputs": [
    {
     "data": {
      "text/html": [
       "<div>\n",
       "<style scoped>\n",
       "    .dataframe tbody tr th:only-of-type {\n",
       "        vertical-align: middle;\n",
       "    }\n",
       "\n",
       "    .dataframe tbody tr th {\n",
       "        vertical-align: top;\n",
       "    }\n",
       "\n",
       "    .dataframe thead th {\n",
       "        text-align: right;\n",
       "    }\n",
       "</style>\n",
       "<table border=\"1\" class=\"dataframe\">\n",
       "  <thead>\n",
       "    <tr style=\"text-align: right;\">\n",
       "      <th></th>\n",
       "      <th>id</th>\n",
       "      <th>content</th>\n",
       "      <th>reference</th>\n",
       "      <th>tag</th>\n",
       "      <th>created_at</th>\n",
       "    </tr>\n",
       "  </thead>\n",
       "  <tbody>\n",
       "    <tr>\n",
       "      <th>0</th>\n",
       "      <td>15</td>\n",
       "      <td>df語法的結果輸出就可以看到整齊的資料表格</td>\n",
       "      <td>result=(\"SQL語法\")&lt;br&gt;df=pd.read_sql_query(resul...</td>\n",
       "      <td>sql/df/</td>\n",
       "      <td>2025-08-29 15:43:09.477565</td>\n",
       "    </tr>\n",
       "  </tbody>\n",
       "</table>\n",
       "</div>"
      ],
      "text/plain": [
       "   id                content  \\\n",
       "0  15  df語法的結果輸出就可以看到整齊的資料表格   \n",
       "\n",
       "                                           reference      tag  \\\n",
       "0  result=(\"SQL語法\")<br>df=pd.read_sql_query(resul...  sql/df/   \n",
       "\n",
       "                   created_at  \n",
       "0  2025-08-29 15:43:09.477565  "
      ]
     },
     "metadata": {},
     "output_type": "display_data"
    }
   ],
   "source": [
    "import pandas as pd\n",
    "import sqlite3\n",
    "\n",
    "# 建立連線\n",
    "db_path = \"../SQL/mysql/database/hi.db\"\n",
    "conn = sqlite3.connect(db_path)\n",
    "\n",
    "# 建立 DataFrame\n",
    "df = pd.DataFrame({\n",
    "    'content': ['df語法的結果輸出就可以看到整齊的資料表格'],\n",
    "    'reference': ['result=(\"SQL語法\")<br>df=pd.read_sql_query(result, conn)<br>df'],\n",
    "    'tag': ['sql/df/'],\n",
    "    'created_at': [pd.Timestamp.now()]\n",
    "})\n",
    "\n",
    "# # 插入資料\n",
    "df.to_sql('Daily_report', conn, if_exists='append', index=False)\n",
    "\n",
    "# # 全域設定（會影響整個 kernel）  \n",
    "# pd.set_option('display.max_columns', None) \n",
    "# pd.set_option('display.width', 300)\n",
    "# pd.set_option('display.max_colwidth', 40)   \n",
    "# pd.set_option('display.expand_frame_repr', True)  \n",
    "# pd.set_option('display.colheader_justify', 'left')\n",
    "# 在 Jupyter 中顯示時，設定 Pandas 不忽略換行符  \n",
    "# pd.set_option('display.max_colwidth', None)  # 確保不截斷內容  \n",
    "# display(df)  # 在 Jupyter 中使用 display() 而非 print()  \n",
    "# 讀取並顯示最新插入的資料  \n",
    "result = (\"SELECT * FROM Daily_report ORDER BY id DESC LIMIT 1\")  # 讀取最新一筆資料\n",
    "df = pd.read_sql_query(result, conn)\n",
    "display(df)\n",
    "conn.close()  "
   ]
  },
  {
   "cell_type": "markdown",
   "id": "ac18dfef",
   "metadata": {},
   "source": [
    "## 更新"
   ]
  },
  {
   "cell_type": "code",
   "execution_count": 4,
   "id": "b66281ae",
   "metadata": {},
   "outputs": [
    {
     "data": {
      "text/html": [
       "<div>\n",
       "<style scoped>\n",
       "    .dataframe tbody tr th:only-of-type {\n",
       "        vertical-align: middle;\n",
       "    }\n",
       "\n",
       "    .dataframe tbody tr th {\n",
       "        vertical-align: top;\n",
       "    }\n",
       "\n",
       "    .dataframe thead th {\n",
       "        text-align: right;\n",
       "    }\n",
       "</style>\n",
       "<table border=\"1\" class=\"dataframe\">\n",
       "  <thead>\n",
       "    <tr style=\"text-align: right;\">\n",
       "      <th></th>\n",
       "      <th>id</th>\n",
       "      <th>content</th>\n",
       "      <th>reference</th>\n",
       "      <th>tag</th>\n",
       "      <th>created_at</th>\n",
       "    </tr>\n",
       "  </thead>\n",
       "  <tbody>\n",
       "    <tr>\n",
       "      <th>0</th>\n",
       "      <td>15</td>\n",
       "      <td>df語法的結果輸出就可以看到整齊的資料表格</td>\n",
       "      <td>result=(\"SQL語法\")\\ndf=pd.read_sql_query(result,...</td>\n",
       "      <td>sql/df/</td>\n",
       "      <td>2025-08-29 15:43:09.477565</td>\n",
       "    </tr>\n",
       "  </tbody>\n",
       "</table>\n",
       "</div>"
      ],
      "text/plain": [
       "   id                content  \\\n",
       "0  15  df語法的結果輸出就可以看到整齊的資料表格   \n",
       "\n",
       "                                           reference      tag  \\\n",
       "0  result=(\"SQL語法\")\\ndf=pd.read_sql_query(result,...  sql/df/   \n",
       "\n",
       "                   created_at  \n",
       "0  2025-08-29 15:43:09.477565  "
      ]
     },
     "metadata": {},
     "output_type": "display_data"
    }
   ],
   "source": [
    "import sqlite3\n",
    "import pandas as pd \n",
    "\n",
    "db_path = \"../SQL/mysql/database/hi.db\"\n",
    "conn = sqlite3.connect(db_path)\n",
    "cursor = conn.cursor()\n",
    "\n",
    "update_query = \"\"\"\n",
    "UPDATE Daily_report\n",
    "SET reference = ?\n",
    "WHERE id = ?;\n",
    "\"\"\"\n",
    "new_reference = 'result=(\"SQL語法\")\\ndf=pd.read_sql_query(result, conn)\\ndf'\n",
    "cursor.execute(update_query, (new_reference, 15))\n",
    "conn.commit()\n",
    "\n",
    "# 用 pandas 讀出該筆  \n",
    "df_updated = pd.read_sql(\"SELECT * FROM Daily_report WHERE id = 15\", conn)  \n",
    "display(df_updated) \n",
    "\n",
    "conn.close()\n"
   ]
  },
  {
   "cell_type": "markdown",
   "id": "55de4fd6",
   "metadata": {},
   "source": [
    "### 下面這個會刪掉全部,是危險性很高的更新檔案做法"
   ]
  },
  {
   "cell_type": "code",
   "execution_count": null,
   "id": "f8cab339",
   "metadata": {},
   "outputs": [],
   "source": [
    "# 這個會把所有資料都刪掉,除了修改的那一筆\n",
    "# 結論:不要用 to_sql(..., if_exists='replace') 在只讀到部分資料的 DataFrame 上，否則會刪掉其他資料。\n",
    "# 要更新特定記錄，最好用 SQL 的 UPDATE，安全又直接。\n",
    "# import pandas as pd\n",
    "# import sqlite3\n",
    "\n",
    "# # 建立連線\n",
    "# db_path = \"../SQL/mysql/database/hi.db\"\n",
    "# conn = sqlite3.connect(db_path)\n",
    "\n",
    "# # 修改 DataFrame 中的內容 \n",
    "# df.loc[df['id']==15, 'reference'] = 'result=(\"SQL語法\")\\ndf=pd.read_sql_query(result, conn)\\ndf'  \n",
    "\n",
    "# # 將修改後的 DataFrame 寫回資料庫  \n",
    "# df.to_sql('Daily_report', conn, if_exists='replace', index=False)  \n",
    "\n",
    "# # 驗證更新結果  \n",
    "# updated_df = pd.read_sql(query, conn)\n",
    "# #updated_df\n",
    "\n",
    "# # 在 Jupyter 中顯示時，設定 Pandas 不忽略換行符  \n",
    "# # pd.set_option('display.max_colwidth', None)  # 確保不截斷內容  \n",
    "# display(updated_df)  # 在 Jupyter 中使用 display() 而非 print()  \n",
    "# # 關閉連線  \n",
    "# conn.close()  "
   ]
  },
  {
   "cell_type": "markdown",
   "id": "157adaaf",
   "metadata": {},
   "source": [
    "## 插入多筆資料"
   ]
  },
  {
   "cell_type": "code",
   "execution_count": null,
   "id": "bb4818a6",
   "metadata": {},
   "outputs": [],
   "source": [
    "import pandas as pd\n",
    "import sqlite3\n",
    "\n",
    "# 建立連線\n",
    "db_path = \"../SQL/mysql/database/hi.db\"\n",
    "conn = sqlite3.connect(db_path)\n",
    "\n",
    "# 建立包含多筆資料的 DataFrame\n",
    "df = pd.DataFrame({\n",
    "    'content': [\n",
    "        '使用jupyter寫sqlite语法', \n",
    "        '學習pandas插入sqlite', \n",
    "        'SQLite資料庫操作'\n",
    "    ],\n",
    "    'reference': [\n",
    "        'SQL/sqlite-python.ipynb', \n",
    "        'pandas/sqlite-insert.ipynb', \n",
    "        'database/sqlite-tutorial.md'\n",
    "    ],\n",
    "    'tag': [\n",
    "        'ipython-sql/sql/', \n",
    "        'pandas/database', \n",
    "        'tutorial/sqlite'\n",
    "    ],\n",
    "    'created_at': [pd.Timestamp.now()]*3\n",
    "})\n",
    "\n",
    "# 插入多筆資料\n",
    "df.to_sql('Daily_report', conn, if_exists='append', index=False) # append表示新增資料，不覆蓋原有資料。index=False表示不插入DataFrame的索引欄位。\n",
    "\n",
    "# 讀取並顯示最新插入的資料\n",
    "result = (\"SELECT * FROM Daily_report ORDER BY id DESC LIMIT 1\")  # 讀取最新一筆資料\n",
    "df = pd.read_sql_query(result, conn)\n",
    "display(df)\n",
    "\n",
    "conn.close()  \n"
   ]
  },
  {
   "cell_type": "markdown",
   "id": "4419b7e7",
   "metadata": {},
   "source": [
    "## 刪除單筆及多筆資料"
   ]
  },
  {
   "cell_type": "code",
   "execution_count": null,
   "id": "30f0cea6",
   "metadata": {},
   "outputs": [],
   "source": [
    "import pandas as pd\n",
    "import sqlite3\n",
    "\n",
    "# 建立連線\n",
    "db_path = \"../SQL/mysql/database/hi.db\"\n",
    "conn = sqlite3.connect(db_path)\n",
    "cur = conn.cursor() # 建立游標\n",
    "\n",
    "# 單筆刪除  \n",
    "cur.execute(\"DELETE FROM Daily_report WHERE id = ?\", (12,))  \n",
    "conn.commit()\n",
    "\n",
    "# 多筆刪除\n",
    "# cur.execute(\"DELETE FROM Daily_report WHERE id IN (?, ?)\", (4, 5))\n",
    "# conn.commit()\n",
    "\n",
    "result = pd.read_sql_query(\"SELECT * FROM Daily_report\", conn)  # 讀取所有資料\n",
    "display(result)\n",
    "\n",
    "conn.close()  "
   ]
  }
 ],
 "metadata": {
  "kernelspec": {
   "display_name": "myenv-windows",
   "language": "python",
   "name": "python3"
  },
  "language_info": {
   "codemirror_mode": {
    "name": "ipython",
    "version": 3
   },
   "file_extension": ".py",
   "mimetype": "text/x-python",
   "name": "python",
   "nbconvert_exporter": "python",
   "pygments_lexer": "ipython3",
   "version": "3.13.5"
  }
 },
 "nbformat": 4,
 "nbformat_minor": 5
}
