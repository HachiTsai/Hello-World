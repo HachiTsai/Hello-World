{
 "cells": [
  {
   "cell_type": "markdown",
   "id": "f860ad5b",
   "metadata": {},
   "source": [
    "# 開始安裝"
   ]
  },
  {
   "cell_type": "code",
   "execution_count": null,
   "id": "32fe3809",
   "metadata": {},
   "outputs": [],
   "source": [
    "#20250828執行過\n",
    "%pip install ipython-sql pandas sqlalchemy"
   ]
  },
  {
   "cell_type": "code",
   "execution_count": null,
   "id": "d8cf36a5",
   "metadata": {},
   "outputs": [],
   "source": [
    "%load_ext sql"
   ]
  },
  {
   "cell_type": "code",
   "execution_count": null,
   "id": "911ae4e9",
   "metadata": {},
   "outputs": [],
   "source": [
    "import sqlite3\n",
    "import pandas as pd\n",
    "\n",
    "# 資料庫路徑（根據實際位置調整）\n",
    "db_path = \"../SQL/mysql/database/hi.db\"\n",
    "\n",
    "# 連接到 SQLite 資料庫\n",
    "conn = sqlite3.connect(db_path)\n"
   ]
  },
  {
   "cell_type": "markdown",
   "id": "604db4d4",
   "metadata": {},
   "source": [
    "# 練習區"
   ]
  },
  {
   "cell_type": "markdown",
   "id": "c4ebe35e",
   "metadata": {},
   "source": [
    "## import內容和DB路經"
   ]
  },
  {
   "cell_type": "code",
   "execution_count": null,
   "id": "e4b54584",
   "metadata": {},
   "outputs": [],
   "source": [
    "import pandas as pd\n",
    "import sqlite3\n",
    "\n",
    "# 建立連線\n",
    "db_path = \"../SQL/mysql/database/hi.db\"\n",
    "conn = sqlite3.connect(db_path)"
   ]
  },
  {
   "cell_type": "markdown",
   "id": "52e8caf6",
   "metadata": {},
   "source": [
    "## 查詢"
   ]
  },
  {
   "cell_type": "code",
   "execution_count": null,
   "id": "1163f19a",
   "metadata": {},
   "outputs": [],
   "source": [
    "# 執行查詢並用 Pandas 顯示結果  \n",
    "import pandas as pd\n",
    "import sqlite3\n",
    "\n",
    "# 建立連線\n",
    "db_path = \"../SQL/mysql/database/hi.db\"\n",
    "conn = sqlite3.connect(db_path)\n",
    "\n",
    "query = \"SELECT * FROM Daily_report WHERE tag like '%sql%';\"  \n",
    "df = pd.read_sql(query, conn)  \n",
    "df"
   ]
  },
  {
   "cell_type": "markdown",
   "id": "f59fc806",
   "metadata": {},
   "source": [
    "## 插入單筆新資料"
   ]
  },
  {
   "cell_type": "code",
   "execution_count": null,
   "id": "40844278",
   "metadata": {},
   "outputs": [],
   "source": [
    "import pandas as pd\n",
    "import sqlite3\n",
    "\n",
    "# 建立連線\n",
    "db_path = \"../SQL/mysql/database/hi.db\"\n",
    "conn = sqlite3.connect(db_path)\n",
    "\n",
    "# 建立 DataFrame\n",
    "df = pd.DataFrame({\n",
    "    'content': ['測試文字寬度設定'],\n",
    "    'reference': ['SQL/sqlite-python.ipynb'],\n",
    "    'tag': ['ipython-sql/sql/'],\n",
    "    'created_at': [pd.Timestamp.now()]\n",
    "})\n",
    "\n",
    "# # 插入資料\n",
    "df.to_sql('Daily_report', conn, if_exists='append', index=False)\n",
    "\n",
    "# 全域設定（會影響整個 kernel）  \n",
    "pd.set_option('display.max_columns', None)  \n",
    "pd.set_option('display.max_rows', 100)  \n",
    "pd.set_option('display.width', 1000)\n",
    "pd.set_option('display.max_colwidth', 30)  \n",
    "pd.set_option('display.precision', 3)  \n",
    "pd.set_option('display.expand_frame_repr', True)  \n",
    "pd.set_option('display.colheader_justify', 'right')\n",
    "# 讀取並顯示最新插入的資料  \n",
    "result = pd.read_sql_query(\"SELECT * FROM Daily_report ORDER BY id DESC LIMIT 5\", conn)  # 讀取最新一筆資料\n",
    "print(result)  \n",
    "\n",
    "\n",
    "# 關閉連線\n",
    "conn.close()\n"
   ]
  },
  {
   "cell_type": "code",
   "execution_count": null,
   "id": "b7cbc195",
   "metadata": {},
   "outputs": [],
   "source": [
    "import pandas as pd\n",
    "import sqlite3\n",
    "\n",
    "# 建立連線\n",
    "conn = sqlite3.connect('../SQL/mysql/database/hi.db')\n",
    "\n",
    "# 讀取最新一筆資料\n",
    "result = pd.read_sql_query(\"SELECT * FROM Daily_report ORDER BY id DESC LIMIT 3\", conn)\n",
    "\n",
    "# 手動右對齊顯示\n",
    "def right_align_display(df):\n",
    "    # 獲取每列最大寬度\n",
    "    col_widths = {col: max(df[col].astype(str).str.len().max(), len(col)) for col in df.columns}\n",
    "    \n",
    "    # 打印表頭\n",
    "    header = \" \".join(f\"{col:<{col_widths[col]}}\" for col in df.columns)\n",
    "    print(header)\n",
    "    print(\"-\" * len(header))\n",
    "    \n",
    "    # 打印資料\n",
    "    for _, row in df.iterrows():\n",
    "        row_str = \" \".join(f\"{str(row[col]):<{col_widths[col]}}\" for col in df.columns)\n",
    "        print(row_str)\n",
    "\n",
    "# 顯示\n",
    "right_align_display(result)\n"
   ]
  },
  {
   "cell_type": "code",
   "execution_count": 17,
   "id": "527c7695",
   "metadata": {},
   "outputs": [
    {
     "name": "stdout",
     "output_type": "stream",
     "text": [
      "Columns: ['id', 'content', 'reference', 'tag', 'created_at']\n",
      "id      content                                             reference             tag                             created_at          \n",
      "--------------------------------------------------------------------------------------------------------------------------------------\n",
      "10      測試文字寬度設定                                            SQL/sqlite-           ipython-sql/sql/                2025-08-29          \n",
      "                                                            python.ipynb                                          00:19:12.031858     \n",
      "9       學習如何使用 SQLite 與 Python 進行資料庫操作                      SQL/sqlite-           ipython-sql/sql/                2025-08-28 14:46:34 \n",
      "                                                            python.ipynb                                                              \n",
      "8       失敗=>使用jupyter寫sqlite语法，改用python連接db並插入資料            SQL/sqlite-           ipython-sql/sql/                2025-08-28 14:28:42 \n",
      "                                                            python.ipynb                                                              \n"
     ]
    }
   ],
   "source": [
    "import pandas as pd\n",
    "import sqlite3\n",
    "import textwrap\n",
    "\n",
    "# 建立連線並讀取示範資料\n",
    "conn = sqlite3.connect('../SQL/mysql/database/hi.db')\n",
    "result = pd.read_sql_query(\"SELECT * FROM Daily_report ORDER BY id DESC LIMIT 3\", conn)\n",
    "conn.close()\n",
    "\n",
    "def wrap_cell_fixed_width(text, width):\n",
    "    \"\"\"Wrap text into lines with max length = width. Return list of lines (at least ['']).\"\"\"\n",
    "    if pd.isna(text):\n",
    "        return ['']\n",
    "    s = str(text)\n",
    "    if width <= 0:\n",
    "        return [s]\n",
    "    lines = textwrap.wrap(s, width=width, replace_whitespace=False, drop_whitespace=False)\n",
    "    return lines if lines else ['']\n",
    "\n",
    "def table_display_fixed_width(df, col_widths=None, default_width=20, padding=2, align='left'):\n",
    "    \"\"\"\n",
    "    Display DataFrame in terminal with fixed column widths and wrapping.\n",
    "    - col_widths: dict mapping column name -> width (int). If None, all columns use default_width.\n",
    "    - default_width: width used when column not in col_widths.\n",
    "    - padding: spaces between columns.\n",
    "    - align: 'left' or 'right' for cell alignment.\n",
    "    \"\"\"\n",
    "    # 設定每欄寬度\n",
    "    if col_widths is None:\n",
    "        col_widths = {col: default_width for col in df.columns}\n",
    "    else:\n",
    "        # 確保所有欄位都有寬度設定\n",
    "        for col in df.columns:\n",
    "            if col not in col_widths:\n",
    "                col_widths[col] = default_width\n",
    "\n",
    "    pad = ' ' * padding\n",
    "\n",
    "    # 將每個 cell 轉成換行後的 list（依固定寬度）\n",
    "    wrapped = {}\n",
    "    for col in df.columns:\n",
    "        width = col_widths[col]\n",
    "        wrapped[col] = [wrap_cell_fixed_width(v, width) for v in df[col].tolist()]\n",
    "\n",
    "    # 計算每列的最大子行數\n",
    "    row_line_counts = [max(len(wrapped[col][i]) for col in df.columns) for i in range(len(df))]\n",
    "\n",
    "    # 格式化 cell（對齊並截斷或補空白到固定寬度）\n",
    "    def format_cell(s, width):\n",
    "        # 若長度超過 width，強制截斷（但理論上 wrap 已處理過長情況）\n",
    "        if len(s) > width:\n",
    "            s = s[:width]\n",
    "        return s.rjust(width) if align == 'right' else s.ljust(width)\n",
    "\n",
    "    # 列印表頭（欄名會被限制在固定寬度，過長會截斷）\n",
    "    header_parts = [format_cell(str(col)[:col_widths[col]], col_widths[col]) for col in df.columns]\n",
    "    header = pad.join(header_parts)\n",
    "    print(header)\n",
    "    print('-' * len(header))\n",
    "\n",
    "    # 列印每一列資料，逐子行列印\n",
    "    for i in range(len(df)):\n",
    "        for line_idx in range(row_line_counts[i]):\n",
    "            parts = []\n",
    "            for col in df.columns:\n",
    "                cell_lines = wrapped[col][i]\n",
    "                sub = cell_lines[line_idx] if line_idx < len(cell_lines) else ''\n",
    "                parts.append(format_cell(sub, col_widths[col]))\n",
    "            print(pad.join(parts))\n",
    "        # 可選：列間空一行（若不要可註解掉下一行）\n",
    "        # print()\n",
    "\n",
    "# 範例：手動指定每個欄位寬度\n",
    "# 假設你的欄位為 ['id', 'content', 'tag', 'created_at']，自行調整寬度\n",
    "example_col_widths = {\n",
    "    'id': 6,\n",
    "    'content': 50,\n",
    "    'tag': 30,\n",
    "    'created_at': 20,\n",
    "}\n",
    "\n",
    "# 若不確定欄名，先看看 result.columns\n",
    "print(\"Columns:\", list(result.columns))\n",
    "\n",
    "# 呼叫顯示函式（若欄位與 example_col_widths 不同，請調整字典）\n",
    "table_display_fixed_width(result, col_widths=example_col_widths, padding=2, align='left')\n"
   ]
  },
  {
   "cell_type": "markdown",
   "id": "157adaaf",
   "metadata": {},
   "source": [
    "## 插入多筆資料"
   ]
  },
  {
   "cell_type": "code",
   "execution_count": null,
   "id": "bb4818a6",
   "metadata": {},
   "outputs": [],
   "source": [
    "import pandas as pd\n",
    "import sqlite3\n",
    "\n",
    "# 建立連線\n",
    "db_path = \"../SQL/mysql/database/hi.db\"\n",
    "conn = sqlite3.connect(db_path)\n",
    "\n",
    "# 建立包含多筆資料的 DataFrame\n",
    "df = pd.DataFrame({\n",
    "    'content': [\n",
    "        '使用jupyter寫sqlite语法', \n",
    "        '學習pandas插入sqlite', \n",
    "        'SQLite資料庫操作'\n",
    "    ],\n",
    "    'reference': [\n",
    "        'SQL/sqlite-python.ipynb', \n",
    "        'pandas/sqlite-insert.ipynb', \n",
    "        'database/sqlite-tutorial.md'\n",
    "    ],\n",
    "    'tag': [\n",
    "        'ipython-sql/sql/', \n",
    "        'pandas/database', \n",
    "        'tutorial/sqlite'\n",
    "    ]\n",
    "})\n",
    "\n",
    "# 插入多筆資料\n",
    "df.to_sql('Daily_report', conn, if_exists='append', index=False) # append表示新增資料，不覆蓋原有資料。index=False表示不插入DataFrame的索引欄位。\n",
    "\n",
    "# 關閉連線\n",
    "conn.close()\n"
   ]
  },
  {
   "cell_type": "markdown",
   "id": "4419b7e7",
   "metadata": {},
   "source": [
    "## 刪除單筆及多筆資料"
   ]
  },
  {
   "cell_type": "code",
   "execution_count": null,
   "id": "30f0cea6",
   "metadata": {},
   "outputs": [],
   "source": [
    "import pandas as pd\n",
    "import sqlite3\n",
    "\n",
    "# 建立連線\n",
    "db_path = \"../SQL/mysql/database/hi.db\"\n",
    "conn = sqlite3.connect(db_path)\n",
    "cur = conn.cursor() # 建立游標\n",
    "\n",
    "# 單筆刪除  \n",
    "cur.execute(\"DELETE FROM Daily_report WHERE id = ?\", (12,))  \n",
    "conn.commit()\n",
    "\n",
    "# 多筆刪除\n",
    "# cur.execute(\"DELETE FROM Daily_report WHERE id IN (?, ?)\", (4, 5))\n",
    "# conn.commit()\n",
    "\n",
    "result = pd.read_sql_query(\"SELECT * FROM Daily_report\", conn)  # \n",
    "print(result) "
   ]
  }
 ],
 "metadata": {
  "kernelspec": {
   "display_name": "myenv-mac",
   "language": "python",
   "name": "python3"
  },
  "language_info": {
   "codemirror_mode": {
    "name": "ipython",
    "version": 3
   },
   "file_extension": ".py",
   "mimetype": "text/x-python",
   "name": "python",
   "nbconvert_exporter": "python",
   "pygments_lexer": "ipython3",
   "version": "3.13.5"
  }
 },
 "nbformat": 4,
 "nbformat_minor": 5
}
