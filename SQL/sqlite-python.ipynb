{
 "cells": [
  {
   "cell_type": "markdown",
   "id": "f860ad5b",
   "metadata": {},
   "source": [
    "# 開始安裝"
   ]
  },
  {
   "cell_type": "code",
   "execution_count": null,
   "id": "32fe3809",
   "metadata": {},
   "outputs": [],
   "source": [
    "#20250828執行過\n",
    "%pip install ipython-sql pandas sqlalchemy"
   ]
  },
  {
   "cell_type": "code",
   "execution_count": null,
   "id": "d8cf36a5",
   "metadata": {},
   "outputs": [],
   "source": [
    "#not sure\n",
    "%load_ext sql"
   ]
  },
  {
   "cell_type": "code",
   "execution_count": null,
   "id": "911ae4e9",
   "metadata": {},
   "outputs": [],
   "source": [
    "import sqlite3\n",
    "import pandas as pd\n",
    "\n",
    "# 資料庫路徑（根據實際位置調整）\n",
    "db_path = \"../SQL/mysql/database/hi.db\"\n",
    "\n",
    "# 連接到 SQLite 資料庫\n",
    "conn = sqlite3.connect(db_path)\n"
   ]
  },
  {
   "cell_type": "markdown",
   "id": "604db4d4",
   "metadata": {},
   "source": [
    "# 練習區"
   ]
  },
  {
   "cell_type": "markdown",
   "id": "c4ebe35e",
   "metadata": {},
   "source": [
    "## import內容和DB路經"
   ]
  },
  {
   "cell_type": "code",
   "execution_count": null,
   "id": "e4b54584",
   "metadata": {},
   "outputs": [],
   "source": [
    "import pandas as pd\n",
    "import sqlite3\n",
    "\n",
    "# 建立連線\n",
    "db_path = \"../SQL/mysql/database/hi.db\"\n",
    "conn = sqlite3.connect(db_path)\n",
    "\n",
    "conn.close()  "
   ]
  },
  {
   "cell_type": "markdown",
   "id": "52e8caf6",
   "metadata": {},
   "source": [
    "## 查詢"
   ]
  },
  {
   "cell_type": "code",
   "execution_count": null,
   "id": "1163f19a",
   "metadata": {},
   "outputs": [],
   "source": [
    "# 執行查詢並用 Pandas 顯示結果  \n",
    "import pandas as pd\n",
    "import sqlite3\n",
    "\n",
    "# 建立連線\n",
    "db_path = \"../SQL/mysql/database/hi.db\"\n",
    "conn = sqlite3.connect(db_path)\n",
    "\n",
    "query = \"SELECT * FROM Daily_report WHERE id = '15';\"  \n",
    "df = pd.read_sql(query, conn)  \n",
    "display(df)\n",
    "conn.close()  "
   ]
  },
  {
   "cell_type": "markdown",
   "id": "f59fc806",
   "metadata": {},
   "source": [
    "## 插入單筆新資料"
   ]
  },
  {
   "cell_type": "code",
   "execution_count": null,
   "id": "40844278",
   "metadata": {},
   "outputs": [],
   "source": [
    "#sql + pandas\n",
    "import pandas as pd\n",
    "import sqlite3\n",
    "\n",
    "# 建立連線\n",
    "db_path = \"../SQL/mysql/database/hi.db\"\n",
    "conn = sqlite3.connect(db_path)\n",
    "\n",
    "# 建立 DataFrame\n",
    "df = pd.DataFrame({\n",
    "    'content': ['df語法的結果輸出就可以看到整齊的資料表格'],\n",
    "    'reference': ['result=(\"SQL語法\")<br>df=pd.read_sql_query(result, conn)<br>df'],\n",
    "    'tag': ['sql/df/'],\n",
    "    'created_at': [pd.Timestamp.now()]\n",
    "})\n",
    "\n",
    "# # 插入資料\n",
    "df.to_sql('Daily_report', conn, if_exists='append', index=False)\n",
    "\n",
    "# # 全域設定（會影響整個 kernel）  \n",
    "# pd.set_option('display.max_columns', None) \n",
    "# pd.set_option('display.width', 300)\n",
    "# pd.set_option('display.max_colwidth', 40)   \n",
    "# pd.set_option('display.expand_frame_repr', True)  \n",
    "# pd.set_option('display.colheader_justify', 'left')\n",
    "# 在 Jupyter 中顯示時，設定 Pandas 不忽略換行符  \n",
    "# pd.set_option('display.max_colwidth', None)  # 確保不截斷內容  \n",
    "# display(df)  # 在 Jupyter 中使用 display() 而非 print()  \n",
    "# 讀取並顯示最新插入的資料  \n",
    "result = (\"SELECT * FROM Daily_report ORDER BY id DESC LIMIT 1\")  # 讀取最新一筆資料\n",
    "df = pd.read_sql_query(result, conn)\n",
    "display(df)\n",
    "conn.close()  "
   ]
  },
  {
   "cell_type": "code",
   "execution_count": null,
   "id": "f6205b64",
   "metadata": {},
   "outputs": [],
   "source": [
    "# 完整範例（SQLAlchemy Core + pandas）\n",
    "import pandas as pd\n",
    "from sqlalchemy import create_engine, text\n",
    "\n",
    "db_path = \"../SQL/mysql/database/hi.db\"\n",
    "engine = create_engine(f\"sqlite:///{db_path}\", echo=False, future=True)\n",
    "\n",
    "# 建立 DataFrame\n",
    "df = pd.DataFrame({\n",
    "    'content': ['準備要刪掉的資料'],\n",
    "    'reference': ['z-my-note/sql/sqlalchemy/introduce.md'],\n",
    "    'tag': ['sql/df/sqlalchemy/delete/'],\n",
    "    'created_at': [pd.Timestamp.now()]\n",
    "})\n",
    "\n",
    "# 寫入（append）\n",
    "df.to_sql('Daily_report', engine, if_exists='append', index=False)\n",
    "\n",
    "# 讀取最新一筆並顯示\n",
    "query = \"SELECT * FROM Daily_report ORDER BY id DESC LIMIT 1\"\n",
    "with engine.connect() as conn:\n",
    "    df_latest = pd.read_sql(query, conn)\n",
    "display(df_latest)\n",
    "\n",
    "conn.close()\n"
   ]
  },
  {
   "cell_type": "markdown",
   "id": "ac18dfef",
   "metadata": {},
   "source": [
    "## 更新"
   ]
  },
  {
   "cell_type": "code",
   "execution_count": null,
   "id": "b66281ae",
   "metadata": {},
   "outputs": [],
   "source": [
    "import sqlite3\n",
    "import pandas as pd \n",
    "\n",
    "db_path = \"../SQL/mysql/database/hi.db\"\n",
    "conn = sqlite3.connect(db_path)\n",
    "cursor = conn.cursor()\n",
    "\n",
    "update_query = \"\"\"\n",
    "UPDATE Daily_report\n",
    "SET reference = ?\n",
    "WHERE id = ?;\n",
    "\"\"\"\n",
    "new_reference = 'result=(\"SQL語法\")\\ndf=pd.read_sql_query(result, conn)\\ndf'\n",
    "cursor.execute(update_query, (new_reference, 15))\n",
    "conn.commit()\n",
    "\n",
    "# 用 pandas 讀出該筆  \n",
    "df_updated = pd.read_sql(\"SELECT * FROM Daily_report WHERE id = 15\", conn)  \n",
    "display(df_updated) \n",
    "\n",
    "conn.close()\n"
   ]
  },
  {
   "cell_type": "markdown",
   "id": "55de4fd6",
   "metadata": {},
   "source": [
    "### 下面這個會刪掉全部,是危險性很高的更新檔案做法"
   ]
  },
  {
   "cell_type": "code",
   "execution_count": null,
   "id": "f8cab339",
   "metadata": {},
   "outputs": [],
   "source": [
    "# 這個會把所有資料都刪掉,除了修改的那一筆\n",
    "# 結論:不要用 to_sql(..., if_exists='replace') 在只讀到部分資料的 DataFrame 上，否則會刪掉其他資料。\n",
    "# 要更新特定記錄，最好用 SQL 的 UPDATE，安全又直接。\n",
    "# import pandas as pd\n",
    "# import sqlite3\n",
    "\n",
    "# # 建立連線\n",
    "# db_path = \"../SQL/mysql/database/hi.db\"\n",
    "# conn = sqlite3.connect(db_path)\n",
    "\n",
    "# # 修改 DataFrame 中的內容 \n",
    "# df.loc[df['id']==15, 'reference'] = 'result=(\"SQL語法\")\\ndf=pd.read_sql_query(result, conn)\\ndf'  \n",
    "\n",
    "# # 將修改後的 DataFrame 寫回資料庫  \n",
    "# df.to_sql('Daily_report', conn, if_exists='replace', index=False)  \n",
    "\n",
    "# # 驗證更新結果  \n",
    "# updated_df = pd.read_sql(query, conn)\n",
    "# #updated_df\n",
    "\n",
    "# # 在 Jupyter 中顯示時，設定 Pandas 不忽略換行符  \n",
    "# # pd.set_option('display.max_colwidth', None)  # 確保不截斷內容  \n",
    "# display(updated_df)  # 在 Jupyter 中使用 display() 而非 print()  \n",
    "# # 關閉連線  \n",
    "# conn.close()  "
   ]
  },
  {
   "cell_type": "markdown",
   "id": "157adaaf",
   "metadata": {},
   "source": [
    "## 插入多筆資料"
   ]
  },
  {
   "cell_type": "code",
   "execution_count": null,
   "id": "bb4818a6",
   "metadata": {},
   "outputs": [],
   "source": [
    "import pandas as pd\n",
    "import sqlite3\n",
    "\n",
    "# 建立連線\n",
    "db_path = \"../SQL/mysql/database/hi.db\"\n",
    "conn = sqlite3.connect(db_path)\n",
    "\n",
    "# 建立包含多筆資料的 DataFrame\n",
    "df = pd.DataFrame({\n",
    "    'content': [\n",
    "        '使用jupyter寫sqlite语法', \n",
    "        '學習pandas插入sqlite', \n",
    "        'SQLite資料庫操作'\n",
    "    ],\n",
    "    'reference': [\n",
    "        'SQL/sqlite-python.ipynb', \n",
    "        'pandas/sqlite-insert.ipynb', \n",
    "        'database/sqlite-tutorial.md'\n",
    "    ],\n",
    "    'tag': [\n",
    "        'ipython-sql/sql/', \n",
    "        'pandas/database', \n",
    "        'tutorial/sqlite'\n",
    "    ],\n",
    "    'created_at': [pd.Timestamp.now()]*3\n",
    "})\n",
    "\n",
    "# 插入多筆資料\n",
    "df.to_sql('Daily_report', conn, if_exists='append', index=False) # append表示新增資料，不覆蓋原有資料。index=False表示不插入DataFrame的索引欄位。\n",
    "\n",
    "# 讀取並顯示最新插入的資料\n",
    "result = (\"SELECT * FROM Daily_report ORDER BY id DESC LIMIT 1\")  # 讀取最新一筆資料\n",
    "df = pd.read_sql_query(result, conn)\n",
    "display(df)\n",
    "\n",
    "conn.close()  \n"
   ]
  },
  {
   "cell_type": "markdown",
   "id": "4419b7e7",
   "metadata": {},
   "source": [
    "## 刪除單筆及多筆資料-選sqlalchemy"
   ]
  },
  {
   "cell_type": "code",
   "execution_count": null,
   "id": "1f0e3cec",
   "metadata": {},
   "outputs": [],
   "source": [
    "\n",
    "from sqlalchemy import create_engine, text\n",
    "import pandas as pd\n",
    "\n",
    "engine = create_engine(f\"sqlite:///{db_path}\", echo=False, future=True)\n",
    "\n",
    "# 刪除單筆 id=12\n",
    "with engine.begin() as conn:\n",
    "    conn.execute(text(\"DELETE FROM Daily_report WHERE id = :id\"), {\"id\": 17})\n",
    "\n",
    "# # 刪除多筆 id 4,5\n",
    "# ids_to_delete = [4, 5]\n",
    "# placeholders = \", \".join([f\":id{i}\" for i in range(len(ids_to_delete))])\n",
    "# sql = text(f\"DELETE FROM Daily_report WHERE id IN ({placeholders})\")\n",
    "# params = {f\"id{i}\": ids_to_delete[i] for i in range(len(ids_to_delete))}\n",
    "# with engine.begin() as conn:\n",
    "#     conn.execute(sql, params)\n",
    "\n",
    "# 驗證\n",
    "with engine.connect() as conn:\n",
    "    df = pd.read_sql(\"SELECT * FROM Daily_report\", conn)\n",
    "display(df)\n"
   ]
  },
  {
   "cell_type": "code",
   "execution_count": null,
   "id": "30f0cea6",
   "metadata": {},
   "outputs": [],
   "source": [
    "#sql + cur \n",
    "import pandas as pd\n",
    "import sqlite3\n",
    "\n",
    "# 建立連線\n",
    "db_path = \"../SQL/mysql/database/hi.db\"\n",
    "conn = sqlite3.connect(db_path)\n",
    "cur = conn.cursor() # 建立游標\n",
    "\n",
    "# 單筆刪除  \n",
    "cur.execute(\"DELETE FROM Daily_report WHERE id = ?\", (12,))  \n",
    "conn.commit()\n",
    "\n",
    "# 多筆刪除\n",
    "# cur.execute(\"DELETE FROM Daily_report WHERE id IN (?, ?)\", (4, 5))\n",
    "# conn.commit()\n",
    "\n",
    "result = pd.read_sql_query(\"SELECT * FROM Daily_report\", conn)  # 讀取所有資料\n",
    "display(result)\n",
    "\n",
    "conn.close()  "
   ]
  }
 ],
 "metadata": {
  "kernelspec": {
   "display_name": "myenv-mac",
   "language": "python",
   "name": "python3"
  },
  "language_info": {
   "codemirror_mode": {
    "name": "ipython",
    "version": 3
   },
   "file_extension": ".py",
   "mimetype": "text/x-python",
   "name": "python",
   "nbconvert_exporter": "python",
   "pygments_lexer": "ipython3",
   "version": "3.13.5"
  }
 },
 "nbformat": 4,
 "nbformat_minor": 5
}
