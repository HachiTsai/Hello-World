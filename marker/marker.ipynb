{
 "cells": [
  {
   "cell_type": "code",
   "execution_count": null,
   "id": "fa86c275",
   "metadata": {},
   "outputs": [],
   "source": [
    "# 原始檔\n",
    "from marker.converters.pdf import PdfConverter\n",
    "from marker.models import create_model_dict\n",
    "from marker.output import text_from_rendered\n",
    "\n",
    "def extract_with_marker(pdf_path):\n",
    "    converter = PdfConverter(artifact_dict=create_model_dict())\n",
    "    rendered = converter(pdf_path)\n",
    "    text, _, images = text_from_rendered(rendered)\n",
    "    return text\n",
    "\n",
    "def save_markdown(content, output_path):\n",
    "    with open(output_path, \"w\", encoding=\"utf-8\") as f:\n",
    "        f.write(content)\n",
    "\n",
    "# 使用範例\n",
    "pdf_path = \"your_file.pdf\"\n",
    "output_path = \"your_file.md\"\n",
    "md_text = extract_with_marker(pdf_path)\n",
    "save_markdown(md_text, output_path)\n",
    "print(f\"✅ Markdown saved to {output_path}\")\n"
   ]
  }
 ],
 "metadata": {
  "language_info": {
   "name": "python"
  }
 },
 "nbformat": 4,
 "nbformat_minor": 5
}
