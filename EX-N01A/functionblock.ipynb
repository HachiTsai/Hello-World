{
 "cells": [
  {
   "cell_type": "markdown",
   "id": "3c6e8dbf",
   "metadata": {},
   "source": [
    "## 2.1.4 演算ブロック\n",
    "\n",
    "演算ブロックは、ループ制御で使用される演算機能を機能単位にまとめたものです。 表 2-1-6 に標準演算ブロックの一覧を示します。\n",
    "\n",
    "| ファンクション<br>コード | 端子情報   | 名<br>称               | 1個/<br>ルーフ<br>$*4$ | ファンクション<br>コード | 略称   | 名<br>称                   | 1個/<br>$*4$ |      |\n",
    "|----------------|------|----------------------|--------------------|----------------|------|--------------------------|-------------|------|\n",
    "| F00            |CD:<br>0=AND<br>1=OR<br>2=EOR<br>3=on delay timer EOR<br>4=RESET first EOR<br>5=SET first EOR<br>6=On delay timmer<br>7=Off delay timmer<br>8=Pulse ouput| ALGC 論理演算器           |                    | F31            |      | APSM 温度補正付パルス積算計         |             |      |\n",
    "| F01            |      | ESTS ステータス変更器        |                    | F32            |      | CBCH バッチカウンタ             | 0           |      |\n",
    "| F02            |      | AINP丨一般入力処理演算器       | О                  | F33            |      | EPSV バッチカウンタデータ設定、収集ブロック |             |      |\n",
    "| F03            |      | AROT 開平演算器           |                    |                |      |                          |             |      |\n",
    "| F04            |      | CDEVI 偏差演算器          | 0                  | F37            |      | COLC ワンループコントローラ通信ブロック   | $\\bigcirc$  | $*1$ |\n",
    "| F05            |      | CPID 偏差入力 PID演算器     | О                  |                |      |                          |             |      |\n",
    "| F06            |      | ALMT リミッタ演算器         |                    | F39            |      | ELBA ワンループ・通信ブロック(1)     |             | $*1$ |\n",
    "| F07            |      | COUT  出力処理演算器        | О                  | F40            |      | ELBD ワンループ・通信ブロック(2)     |             | $*1$ |\n",
    "| F08            |      | AHLA 上下限警報器          |                    | F41            |      | CGFC 品種設定器               | О           |      |\n",
    "| F09            |      | AADS 加減算演算器          |                    | F42            |      | CQUE 品種予約器               | О           |      |\n",
    "| F10            |      | AMLD  乗除算演算器         |                    | F43            |      | APRG プログラムパターン発生器        |             |      |\n",
    "| F11            |      | ASEL セレクタ演算器         |                    | F44            |      | CPOD パルス出力処理演算器(1)       | 0           |      |\n",
    "| F12            |Z1~Z4=0=C1<br>Z1=C2<br>Z2=C3<br>Z3=C4<br>Z4=C5| ACON スイッチ付多点定数発生器    |                    | F45            |      | CPOA パルス出力処理演算器(2)       | 0           | $*2$ |\n",
    "| F13            |      | ASWH アナログスイッチ        |                    | F46            |      | CDPF 偏差 PID 演算器          | О           |      |\n",
    "| F14            |  X1=C1=基点定数<br>X2=C2=目標点定数<br>CD=0:sec/1:min/2:hour   | APRO 勾配設定関数発生器       |                    | F47            |      | AONE ワンショット検出器           |             |      |\n",
    "| F15            |X=input<br>Z1=起動指令<br>Z2=停止指令<br>CD=0:秒/1:分/2:時/3:日/4-7為負<br>C=積算カット定数<br>BIAS=桁合わせ-3~3<br>BT=設定值<br>K=輸出變換係數 | ASUM アナログ積算器         |                    | F48            |      | EBLS BLS 演算器             |             |      |\n",
    "| F16            |      | EPAR データ設定器          |                    | F49            |      | AFBD  複合論理演算器            |             |      |\n",
    "| F17            |      | ATPR 温圧密度補正演算器       |                    | F50            |      | ECTP デジウェイ通信             |             |      |\n",
    "| F18            |      | ACNV  関数変換器          |                    | F52            |      | BRPT バッチ収集器              |             |      |\n",
    "| F19            |      | ALAG 一次遅れ+むだ時間演算器    |                    | F54            |      | CVLVI 電動弁操作器             |             |      |\n",
    "| F20            |      | ADTC むだ時間補償演算器       |                    | F64            |      | LTIM 定刻タイミング検出演算器        |             |      |\n",
    "| F21            |      | AFFM フィードフォワードモデル演算器 |                    | F65            |      | EALO 簡易形警報一括出力演算器        |             |      |\n",
    "| F22            |      | ABND ゲイン付不感帯演算器      |                    | F66            |      | EHLD ホールド処理演算器           |             |      |\n",
    "| F23            |      | AMPR 多段関数発生器         |                    | F67            |      | LBCD BCD - BINARY 変換器    |             |      |\n",
    "| F24            |      | ASSS スロースタート・ストップ演算器 |                    | F68            |      | LBIN   BINARY-BCD変換器     |             |      |\n",
    "| F25            |      | AFIL 移動平均フィルタ演算器     |                    | F69            |      | LDAY 時刻退避演算器             |             |      |\n",
    "| F26            | X1=Input<br>Z1=start-singnal<br>CD=0:平均值、最大值、最小值<br>CD=1:時間計測  | AMMA 最大值、最小值、平均值演算器  |                    | F70            | |  ECAL 四則演算器                    |             |      |\n",
    "| F27            |      | ARTA 勾配検出器           |                    | F71            |  | LGET データー括収集演算器               |             |      |\n",
    "| F28            |      | CRAT 比率設定器           | $\\circ$            | F72            |  | ETIM 間欠信号出力演算器                |             |      |\n",
    "| F29            |  | CONF ON-OFF調節器            | $\\circ$            | F73            |  | LEVT 定刻検出演算器                  |             |      |\n",
    "| F30            |      | CTNF 時間比例 ON-OFF調節器  | О                  |                |      |                          |             |      |\n",
    "\n",
    "表 2-1-6 標準演算ブロック一覧表\n",
    "\n",
    "注:演算ブロックの機能については、2.1.9 項「演算ブロック仕様」を参照ください。ファンクションコードは、 ループスケッチの登録を行うときに、演算ブロックの種類を指定するために用います。"
   ]
  }
 ],
 "metadata": {
  "kernelspec": {
   "display_name": "myenv-windows",
   "language": "python",
   "name": "python3"
  },
  "language_info": {
   "codemirror_mode": {
    "name": "ipython",
    "version": 3
   },
   "file_extension": ".py",
   "mimetype": "text/x-python",
   "name": "python",
   "nbconvert_exporter": "python",
   "pygments_lexer": "ipython3",
   "version": "3.13.5"
  }
 },
 "nbformat": 4,
 "nbformat_minor": 5
}
