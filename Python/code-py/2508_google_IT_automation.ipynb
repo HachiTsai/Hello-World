{
 "cells": [
  {
   "cell_type": "markdown",
   "id": "688ff591",
   "metadata": {},
   "source": [
    "# Mudule1_Crash Python"
   ]
  },
  {
   "cell_type": "code",
   "execution_count": null,
   "id": "84fbe90c",
   "metadata": {},
   "outputs": [
    {
     "name": "stdout",
     "output_type": "stream",
     "text": [
      "hachi.tsai@@gmail.com\n"
     ]
    }
   ],
   "source": [
    "def replace_domain(email, old_email, new_email):\n",
    "\tif \"@\" + old_email in email:\n",
    "\t\tindex = email.index(old_email)\n",
    "\t\tnew_email = email[:index] + \"@\" + new_email\n",
    "\t\treturn new_email\n",
    "\treturn email\n",
    "email = \"hachi.tsai@yahoo.com.tw\"  \n",
    "old_email = \"yahoo.com.tw\"  \n",
    "new_email = \"gmail.com\"  \n",
    "\n",
    "print(replace_domain(email, old_email, new_email)) # type: ignore\n"
   ]
  },
  {
   "cell_type": "code",
   "execution_count": 4,
   "id": "9ff799fb",
   "metadata": {},
   "outputs": [
    {
     "name": "stdout",
     "output_type": "stream",
     "text": [
      "This is a string of length , it's going to be 5\n",
      "a\n",
      "b\n",
      "c\n",
      "d\n",
      "e\n",
      "f\n",
      "True\n",
      "fqofiojbnqab\n",
      "FQOFIOJBNQAB\n",
      "Hello   \n",
      "   Hello\n",
      "Hello\n",
      "4\n",
      "False\n",
      "True\n",
      "['How', 'much', 'wood', 'would', 'a', 'woodchuck', 'chuck', 'if', 'a', 'woodchuck', 'could', 'chuck', 'wood?']\n",
      "['How', 'much', 'wood', 'would', 'a', 'woodchuck', 'chuck']\n",
      "How-much-plastic-would-a-plasticchuck-chuck\n",
      "How-much-wood-would-a-woodchuck-chuck\n"
     ]
    }
   ],
   "source": [
    "# type: ignore\n",
    "print (\"This is a string of length , it's going to be\", len(\"abcde\")) #檢查字串長度\n",
    "\n",
    "for c in \"abcdef\" : print(c) #檢查字串中的每個字元\n",
    "# for c in \"abcdef\" : print(c, end=\" \")  #t The answer is: a b c d e f\n",
    "\n",
    "print (\"def\" in \"abcdef\")  #檢查字串中是否包含特定子字串\n",
    "# print (\"def\" not in \"abcde\") #The answer is False.\n",
    "\n",
    "print(\"FQOfiojbnqab\".lower()) #小寫 \n",
    "print(\"FQOfiojbnqab\".upper()) #大寫\n",
    "print(\"   Hello   \".lstrip()) #消除左側空白\n",
    "print(\"   Hello   \".rstrip()) #消除右側空白\n",
    "print(\"   Hello   \".strip()) #消除兩側空白 \n",
    "\n",
    "test = \"How much wood would a woodchuck chuck if a woodchuck could chuck wood?\"\n",
    "print(test.count(\"wood\")) #計算\"wood\"出現的次數\n",
    "\n",
    "print(\"-123.45\".isnumeric()) #檢查是否為數字\n",
    "\n",
    "print(\"xyzzy\".isalpha()) #檢查是否為字母\n",
    "\n",
    "print(test.split()) #將字串分割成單詞列表\n",
    "\n",
    "test = \"How-much-wood-would-a-woodchuck-chuck\" #將字串分割成列表\n",
    "print(test.split(\"-\"))\n",
    "\n",
    "print(test.replace(\"wood\", \"plastic\"))  #將字串中的\"wood\"替換為\"plastic\"\n",
    "\n",
    "print(\"-\".join(test.split()))   #將列表中的單詞用\"-\"連接起來"
   ]
  },
  {
   "cell_type": "code",
   "execution_count": null,
   "id": "173fec86",
   "metadata": {},
   "outputs": [
    {
     "name": "stdout",
     "output_type": "stream",
     "text": [
      "['NOW', 'WE', 'ARE', 'HERE!']\n",
      "NOW\n",
      "HERE!\n"
     ]
    },
    {
     "data": {
      "text/plain": [
       "['NOW', 'WE']"
      ]
     },
     "execution_count": 4,
     "metadata": {},
     "output_type": "execute_result"
    }
   ],
   "source": [
    "x = [\"NOW\", \"WE\", \"ARE\", \"HERE!\"]\n",
    "type(x) # <class 'list'>\n",
    "\n",
    "print(x) # ['NOW', 'WE', 'ARE', 'HERE!']\n",
    "\n",
    "len(x) # 4\n",
    "\n",
    "\"are\" in x # True\n",
    "\n",
    "\"Today\" in x # False\n",
    "\n",
    "print(x[0]) # NOW\n",
    "\n",
    "print(x[4]) # IndexError: list index out of range\n",
    "\n",
    "x[1:3] # 取第1到第3個元素 ['WE', 'ARE']\n",
    "\n",
    "x[2:] # 取第2個元素到最後 ['ARE', 'HERE!']\n",
    "\n",
    "x[:2] # 取到第2個元素 ['NOW', 'WE']\n"
   ]
  },
  {
   "cell_type": "code",
   "execution_count": 16,
   "id": "afa5eab2",
   "metadata": {},
   "outputs": [
    {
     "name": "stdout",
     "output_type": "stream",
     "text": [
      "['Pineapple', 'Banana', 'Cherry', 'Apple']\n",
      "['Mango', 'Pineapple', 'Banana', 'Cherry', 'Apple']\n",
      "['Mango', 'Pineapple', 'Banana', 'Cherry', 'Apple', 'Grapes']\n",
      "['Mango', 'Pineapple', 'Cherry', 'Apple', 'Grapes']\n",
      "['Mango', 'Pineapple', 'Apple', 'Grapes']\n",
      "['Peach', 'Pineapple', 'Apple', 'Grapes']\n"
     ]
    }
   ],
   "source": [
    "fruits = [\"Pineapple\", \"Banana\", \"Cherry\"]\n",
    "fruits.append(\"Apple\")  # 添加元素\n",
    "print(fruits)  # ['Pineapple', 'Banana', 'Cherry', 'Apple']\n",
    "\n",
    "fruits.insert(0, \"Mango\")  # 在第0個位置插入元素\n",
    "print(fruits)  # ['Mango', 'Pineapple', 'Banana', 'Cherry', 'Apple']\n",
    "\n",
    "fruits.insert(5, \"Grapes\")  # 在第5個位置插入元素\n",
    "print(fruits)  # ['Mango', 'Pineapple', 'Banana', 'Cherry', 'Apple', 'Grapes']\n",
    "\n",
    "fruits.remove(\"Banana\")  # 移除元素\n",
    "print(fruits)  # ['Mango', 'Pineapple', 'Cherry', 'Apple', 'Grapes']\n",
    "\n",
    "fruits.pop(2)  # 移除並返回第2個元素\n",
    "print(fruits)  # ['Mango', 'Pineapple', 'Apple', 'Grapes']\n",
    "\n",
    "fruits[0] = \"Peach\"  # 修改第3個元素\n",
    "print(fruits)  # ['Peach', 'Pineapple', 'Apple', 'Grapes']"
   ]
  },
  {
   "cell_type": "code",
   "execution_count": 20,
   "id": "8081357a",
   "metadata": {},
   "outputs": [
    {
     "name": "stdout",
     "output_type": "stream",
     "text": [
      "(1, 23, 20)\n",
      "1 23 20\n",
      "0 16 40\n"
     ]
    }
   ],
   "source": [
    "# https://www.coursera.org/learn/python-crash-course/supplement/A30Rl/tuples\n",
    "\n",
    "def convert_seconds(seconds):\n",
    "    hours = seconds // 3600\n",
    "    minutes = (seconds - hours * 3600) // 60\n",
    "    remaining_seconds = seconds - hours * 3600 - minutes * 60\n",
    "    return hours, minutes, remaining_seconds\n",
    "\n",
    "result = convert_seconds(5000)\n",
    "type(result) # <class 'tuple'>\n",
    "\n",
    "print(result)  # (1, 23, 20)\n",
    "\n",
    "hours, minutes, seconds = result  # 解包元組\n",
    "print(hours, minutes, seconds)  # 1 23 20\n",
    "\n",
    "hours, minutes, seconds = convert_seconds(1000)  # 解包元組\n",
    "print(hours, minutes, seconds)  # 0 16 40\n"
   ]
  },
  {
   "cell_type": "code",
   "execution_count": null,
   "id": "3121d4cc",
   "metadata": {},
   "outputs": [
    {
     "name": "stdout",
     "output_type": "stream",
     "text": [
      "Total characters: 22, Average length: 5.5\n",
      "1 - Ashley\n",
      "2 - Dylan\n",
      "3 - Reese\n",
      "['Alex Diego <alex@example.com>', 'Shay Brandt <shay@example.com>']\n"
     ]
    }
   ],
   "source": [
    "# 20250816\n",
    "\n",
    "animals = [\"Lion\", \"Zebra\", \"Dolphin\", \"Monkey\"]\n",
    "chars = 0\n",
    "for animal in animals: # 遍歷列表\n",
    "  chars += len(animal) # 累加字符長度\n",
    "\n",
    "print(\"Total characters: {}, Average length: {}\".format(chars, chars/len(animals))) \n",
    "# Total characters: 22, Average length: 5.5\n",
    "\n",
    "\n",
    "## enumerate (function?) \n",
    "winners = [\"Ashley\", \"Dylan\", \"Reese\"] \n",
    "for index, person in enumerate(winners):  # 遍歷列表，並獲取索引和值\n",
    "  print(\"{} - {}\".format(index + 1, person)) \n",
    "  \n",
    "  \n",
    " \n",
    "\n",
    "def full_emails(people): # 遍歷列表，並獲取索引和值\n",
    "  result = []   \n",
    "  for email, name in people:\n",
    "    result.append(\"{} <{}>\".format(name, email)) #  將名字和郵箱組合成字符串\n",
    "  return result #   返回結果\n",
    "print(full_emails([(\"alex@example.com\", \"Alex Diego\"), (\"shay@example.com\", \"Shay Brandt\")])) "
   ]
  },
  {
   "cell_type": "code",
   "execution_count": 7,
   "id": "270dfc85",
   "metadata": {},
   "outputs": [
    {
     "name": "stdout",
     "output_type": "stream",
     "text": [
      "[7, 14, 21, 28, 35, 42, 49, 56, 63, 70]\n",
      "[7, 14, 21, 28, 35, 42, 49, 56, 63, 70]\n",
      "[6, 7, 4, 2]\n",
      "[3, 6, 9, 12, 15, 18, 21, 24, 27, 30, 33, 36, 39, 42, 45, 48, 51, 54, 57, 60, 63, 66, 69, 72, 75, 78, 81, 84, 87, 90, 93, 96, 99]\n"
     ]
    }
   ],
   "source": [
    "multiples = []\n",
    "for x in range(1,11):\n",
    "    multiples.append(x*7)\n",
    "    \n",
    "print(multiples)\n",
    "\n",
    "multiples = [x*7 for x in range(1,11)]\n",
    "print(multiples)\n",
    "\n",
    "langugues = [\"Python\",\"Mermaid\",\"Perl\",\"Go\"]\n",
    "lengths = [len(langugue) for langugue in langugues]\n",
    "print(lengths)\n",
    "\n",
    "z = [x for x in range(1,101) if x % 3 == 0]\n",
    "print(z)"
   ]
  },
  {
   "cell_type": "code",
   "execution_count": 37,
   "id": "21cfefaa",
   "metadata": {},
   "outputs": [
    {
     "name": "stdout",
     "output_type": "stream",
     "text": [
      "{'shirt': ['red', 'blue', 'white'], 'jeans': ['white'], 'scarf': ['yellow'], 'socks': ['black', 'brown']}\n"
     ]
    }
   ],
   "source": [
    "wardrobe = {'shirt': ['red', 'blue', 'white'], 'jeans': ['blue', 'black']}\n",
    "new_items = {'jeans': ['white'], 'scarf': ['yellow'], 'socks': ['black', 'brown']}\n",
    "wardrobe.update(new_items)\n",
    "\n",
    "print(wardrobe)\n"
   ]
  },
  {
   "cell_type": "code",
   "execution_count": null,
   "id": "a88c6eba",
   "metadata": {},
   "outputs": [],
   "source": [
    "names = [\"Carlos\", \"Ray\", \"Alex\", \"Kelly\"] # 名字列表\n",
    "print(sorted(names)) # 按字母顺序排序\n",
    "print(names)\n",
    "print(sorted(names, key=len)) # 按名字长度排序\n"
   ]
  },
  {
   "cell_type": "code",
   "execution_count": null,
   "id": "ef95d841",
   "metadata": {},
   "outputs": [],
   "source": [
    "def current_users(events): \n",
    "  events.sort(key=get_event_date) # type: ignore\n",
    "  machines = {}\n",
    "  for event in events:\n",
    "    if event.machine not in machines:\n",
    "      machines[event.machine] = set()\n",
    "    if event.type == \"login\":\n",
    "      machines[event.machine].add(event.user)\n",
    "    elif event.type == \"logout\":\n",
    "      machines[event.machine].remove(event.user)\n",
    "  return machines\n",
    "\n",
    "def generate_report(machines):\n",
    "  for machine, users in machines.items():\n",
    "    if len(users) > 0:\n",
    "      user_list = \", \".join(users)\n",
    "      print(\"{}: {}\".format(machine, user_list))"
   ]
  },
  {
   "cell_type": "markdown",
   "id": "23e74ee1",
   "metadata": {},
   "source": [
    "# Mudule2_Using Python to Interact with the Operating System"
   ]
  },
  {
   "cell_type": "code",
   "execution_count": null,
   "id": "e482a531",
   "metadata": {},
   "outputs": [
    {
     "name": "stdout",
     "output_type": "stream",
     "text": [
      "usage(total=509868314624, used=276457766912, free=233410547712)\n"
     ]
    },
    {
     "data": {
      "text/plain": [
       "45.77859439728619"
      ]
     },
     "execution_count": 2,
     "metadata": {},
     "output_type": "execute_result"
    }
   ],
   "source": [
    "import shutil \n",
    "du = shutil.disk_usage(\"/\")  # type: ignore\n",
    "print(du)  # 返回磁盘使用情况的元组 (总大小, 已用大小, 可用大小)\n",
    "# du.free   返回可用空间大小\n",
    "# du.total  返回总空间大小\n",
    "# du.used   返回已用空间大小\n",
    "du.free / du.total * 100\n"
   ]
  },
  {
   "cell_type": "code",
   "execution_count": 17,
   "id": "5b63a312",
   "metadata": {},
   "outputs": [
    {
     "data": {
      "text/plain": [
       "14.0"
      ]
     },
     "execution_count": 17,
     "metadata": {},
     "output_type": "execute_result"
    }
   ],
   "source": [
    "import psutil \n",
    "psutil.cpu_percent(0.5)  # 返回 CPU 使用率的百分比\n",
    "# psutil.virtual_memory()   返回内存使用情况的命名元组\n"
   ]
  },
  {
   "cell_type": "code",
   "execution_count": 1,
   "id": "d44996cd",
   "metadata": {},
   "outputs": [
    {
     "name": "stdout",
     "output_type": "stream",
     "text": [
      "Everything is OK!\n"
     ]
    }
   ],
   "source": [
    "import shutil\n",
    "import psutil\n",
    "\n",
    "def check_disk_usage(disk):\n",
    "    du = shutil.disk_usage(disk)\n",
    "    free = du.free / du.total * 100\n",
    "    return free  > 20 # Percentage of free disk space\n",
    "\n",
    "def check_cpu_usage():\n",
    "    usage = psutil.cpu_percent(1)\n",
    "    return usage < 75\n",
    "\n",
    "if not check_disk_usage(\"/\") or not check_cpu_usage():\n",
    "    print(\"ERROR!\")\n",
    "else:\n",
    "    print(\"Everything is OK!\")\n",
    "\n"
   ]
  },
  {
   "cell_type": "markdown",
   "id": "350c8c3d",
   "metadata": {},
   "source": [
    "# Mudule3_Troubleshooting and Debugging Techniques"
   ]
  },
  {
   "cell_type": "markdown",
   "id": "ce7da26a",
   "metadata": {},
   "source": [
    "```bash\n",
    "# 透過AI回覆觀察AI使用的資料呈現方式\n",
    "```\n",
    "\n",
    "以下是針對[IT問題排查與除錯]的系統化方法指南，結合業界實務經驗與技術深度解析，幫助你建立全面的問題解決框架：  \n",
    "\n",
    "---  \n",
    "\n",
    "### **1. 問題分類與對應策略**  \n",
    "#### **四大核心問題類型**  \n",
    "| **問題類型**               | **典型場景**                          | **工具/方法**                          |  \n",
    "|----------------------------|---------------------------------------|----------------------------------------|  \n",
    "| **程序崩潰 (Crash)**        | Segmentation Fault、Python Traceback | `gdb` (C)、`pdb` (Python)、日誌分析    |  \n",
    "| **效能瓶頸 (Performance)**  | CPU 100%、記憶體洩漏                  | `top`、`perf`、`cProfile` (Python)     |  \n",
    "| **邏輯錯誤 (Logic Error)**  | 輸出結果不符合預期                     | 單元測試、斷點除錯、`print()` 調試    |  \n",
    "| **系統整合問題**            | 權限拒絕、網路不通                     | `strace`、`tcpdump`、系統日誌分析      |  \n",
    "\n",
    "---  \n",
    "\n",
    "### **2. 通用除錯流程 (五步法)**  \n",
    "```mermaid  \n",
    "graph TD  \n",
    "    A[現象觀察] --> B[假設建立]  \n",
    "    B --> C[實驗驗證]  \n",
    "    C --> D[根本原因分析]  \n",
    "    D --> E[解決方案實施]  \n",
    "```  \n",
    "\n",
    "#### **步驟詳解**  \n",
    "1. **現象觀察**  \n",
    "   - 收集錯誤訊息（完整 Traceback）  \n",
    "   - 重現步驟（最小化重現環境）  \n",
    "   - 使用 `journalctl -xe` (Linux) 或 Event Viewer (Windows) 查系統日誌  \n",
    "\n",
    "2. **假設建立**  \n",
    "   - 對照已知模式（例如：`Errno 13` 通常為權限問題）  \n",
    "   - 使用 **橡皮鴨除錯法** 口頭描述問題  \n",
    "\n",
    "3. **實驗驗證**  \n",
    "   - 隔離測試：用 `docker run --rm` 建立乾淨環境測試  \n",
    "   - 對照實驗：修改單一變數觀察差異  \n",
    "\n",
    "4. **根本原因**  \n",
    "   - 時間軸分析：比對程式行為與系統事件時間戳  \n",
    "   - 依賴檢查：`ldd` (Linux) 或 `Dependency Walker` (Windows)  \n",
    "\n",
    "5. **解決方案**  \n",
    "   - 短期修復：重啟服務、回滾版本  \n",
    "   - 長期方案：修補程式碼、增加監控  \n",
    "\n",
    "---  \n",
    "\n",
    "### **3. 跨平台工具鏈**  \n",
    "#### **Linux 環境經典組合**  \n",
    "```bash  \n",
    "# 即時監控  \n",
    "htop                  # 互動式資源監控  \n",
    "nethogs               # 進程級網路流量分析  \n",
    "\n",
    "# 深度分析  \n",
    "perf stat -d python script.py  # CPU週期級效能剖析  \n",
    "valgrind --leak-check=yes ./program  # 記憶體洩漏檢測  \n",
    "```  \n",
    "\n",
    "#### **Python 專用工具包**  \n",
    "```python  \n",
    "# 內建模組  \n",
    "import pdb; pdb.set_trace()  # 互動式除錯器  \n",
    "from cProfile import run; run('func()')  # 函式級效能分析  \n",
    "\n",
    "# 第三方套件  \n",
    "pip install py-spy         # 無侵入式採樣分析  \n",
    "pip install memory_profiler  # 記憶體使用逐行檢測  \n",
    "```  \n",
    "\n",
    "---  \n",
    "\n",
    "### **4. 實戰案例解析**  \n",
    "#### **案例一：服務無響應**  \n",
    "- **現象**：Nginx 返回 502 Bad Gateway  \n",
    "- **排查步驟**：  \n",
    "  1. 檢查上游服務日誌：`journalctl -u gunicorn`  \n",
    "  2. 確認連線性：`telnet localhost 8000`  \n",
    "  3. 分析請求阻塞：`strace -p <PID>`  \n",
    "- **根因**：資料庫連線池耗盡  \n",
    "- **解決**：調整 PostgreSQL `max_connections` 參數  \n",
    "\n",
    "#### **案例二：Python 記憶體暴漲**  \n",
    "- **診斷工具**：  \n",
    "  ```bash  \n",
    "  py-spy top --pid <PID>       # 找出熱點函式  \n",
    "  python -m memory_profiler script.py  # 記憶體使用剖析  \n",
    "  ```  \n",
    "- **常見原因**：  \n",
    "  - 未關閉檔案描述符  \n",
    "  - 全域變數累積資料  \n",
    "\n",
    "---  \n",
    "\n",
    "### **5. 協作與知識管理**  \n",
    "#### **問題記錄規範**  \n",
    "```markdown  \n",
    "## [2023-10-01] API 延遲異常  \n",
    "\n",
    "### 現象  \n",
    "- 每晚 20:00 後響應時間 >5s (正常 <500ms)  \n",
    "- 僅影響 `/report` 端點  \n",
    "\n",
    "### 診斷過程  \n",
    "1. 用 `locust` 壓力測試重現問題  \n",
    "2. `perf` 顯示 80% 時間在 `pandas.to_csv()`  \n",
    "\n",
    "### 解決方案  \n",
    "改用 `parquet` 格式輸出，延遲降至 300ms  \n",
    "```  \n",
    "\n",
    "#### **團隊除錯原則**  \n",
    "- **非指責文化**：聚焦問題而非追究責任  \n",
    "- **巴士因子**：確保關鍵系統至少有兩人熟悉程式碼  \n",
    "\n",
    "---  \n",
    "\n",
    "### **6. 進階技巧：生產環境除錯**  \n",
    "#### **無中斷調查**  \n",
    "- **Kubernetes 診斷**：  \n",
    "  ```bash  \n",
    "  kubectl debug -it <pod> --image=busybox  # 臨時除錯容器  \n",
    "  kubectl port-forward svc/elasticsearch 9200:9200  # 本地訪問內部服務  \n",
    "  ```  \n",
    "- **安全注意**：  \n",
    "  - 避免在生產環境直接修改程式碼  \n",
    "  - 使用 `git stash` 暫存未提交變更  \n",
    "\n",
    "#### **日誌最佳實踐**  \n",
    "```python  \n",
    "import structlog  \n",
    "logger = structlog.get_logger()  \n",
    "\n",
    "def process_data(data):  \n",
    "    try:  \n",
    "        logger.info(\"Processing started\", data_size=len(data))  \n",
    "        # 業務邏輯  \n",
    "    except Exception:  \n",
    "        logger.error(\"Transform failed\", exc_info=True, raw_data=data[:100])  \n",
    "        raise  \n",
    "```  \n",
    "\n",
    "---  \n",
    "\n",
    "### **總結：工程師思維培養**  \n",
    "1. **保持好奇心**：異常現象往往是學習機會  \n",
    "2. **量化意識**：用數據（延遲/QPS/錯誤率）代替主觀感受  \n",
    "3. **防禦性設計**：預設所有外部呼叫都可能失敗  \n",
    "4. **工具投資**：花 20% 時間精通工具，換取 80% 效率提升  \n",
    "\n",
    "> 💡 **Amanda 的建議**：[當你成為系統的『醫生』時，問診要像偵探一樣細心，治療要像外科醫生一樣精準——但別忘了先備份『病人』的狀態！]"
   ]
  }
 ],
 "metadata": {
  "kernelspec": {
   "display_name": "myenv-windows",
   "language": "python",
   "name": "python3"
  },
  "language_info": {
   "codemirror_mode": {
    "name": "ipython",
    "version": 3
   },
   "file_extension": ".py",
   "mimetype": "text/x-python",
   "name": "python",
   "nbconvert_exporter": "python",
   "pygments_lexer": "ipython3",
   "version": "3.13.5"
  }
 },
 "nbformat": 4,
 "nbformat_minor": 5
}
