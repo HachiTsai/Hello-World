{
 "cells": [
  {
   "cell_type": "markdown",
   "id": "8cd00944",
   "metadata": {},
   "source": [
    "在 Python 函數中，`return` 是一個關鍵字，它決定了函數是否會返回一個值給調用者。以下是 **有 `return`** 和 **沒有 `return`** 的差異分析：  \n",
    "\n",
    "---  \n",
    "\n",
    "## 1. **有 `return` 的情況**  \n",
    "### 程式碼範例：  \n",
    "```python  \n",
    "def count_negatives(nums):  \n",
    "    n_negative = 0  \n",
    "    for num in nums:  \n",
    "        if num < 0:  \n",
    "            n_negative += 1  \n",
    "    return n_negative  # 明確返回計數結果  \n",
    "\n",
    "result = count_negatives([5, -1, -10, -3, 2])  \n",
    "print(result)  # 輸出：3  \n",
    "```  \n",
    "\n",
    "### 特點：  \n",
    "- **函數會返回一個值**：這裡返回的是 `n_negative`（負數的數量）。  \n",
    "- **可以將返回值賦給變數**：例如 `result = count_negatives(...)`。  \n",
    "- **後續程式碼可以使用返回值**：例如打印、計算、或傳遞給其他函數。  \n",
    "\n",
    "### 輸出：  \n",
    "```  \n",
    "3  \n",
    "```  \n",
    "\n",
    "---  \n",
    "\n",
    "## 2. **沒有 `return` 的情況**  \n",
    "### 程式碼範例：  \n",
    "```python  \n",
    "def count_negatives(nums):  \n",
    "    n_negative = 0  \n",
    "    for num in nums:  \n",
    "        if num < 0:  \n",
    "            n_negative += 1  \n",
    "    # 沒有 return 語句！  \n",
    "\n",
    "result = count_negatives([5, -1, -10, -3, 2])  \n",
    "print(result)  # 輸出：None  \n",
    "```  \n",
    "\n",
    "### 特點：  \n",
    "- **函數預設返回 `None`**：如果沒有 `return`，Python 會自動返回 `None`。  \n",
    "- **無法取得計算結果**：即使函數內部計算了 `n_negative`，外部也無法使用這個值。  \n",
    "- **通常用於[只執行操作]的函數**：例如修改全局變數、打印結果，但不需返回值。  \n",
    "\n",
    "### 輸出：  \n",
    "```  \n",
    "None  \n",
    "```  \n",
    "\n",
    "---  \n",
    "\n",
    "## 3. **關鍵差異總結**  \n",
    "| 特性                | 有 `return`                          | 沒有 `return`                     |  \n",
    "|---------------------|--------------------------------------|-----------------------------------|  \n",
    "| **返回值**          | 返回指定的值（如 `n_negative`）      | 自動返回 `None`                   |  \n",
    "| **用途**            | 需要取得計算結果時                   | 只需執行操作，不需返回值時        |  \n",
    "| **後續使用**        | 可賦值給變數或進一步處理             | 無法取得內部計算結果              |  \n",
    "| **常見場景**        | 計算、過濾、轉換數據                 | 打印、修改全局變數、執行副作用    |  \n",
    "\n",
    "---  \n",
    "\n",
    "## 4. **實際應用範例**  \n",
    "### 有 `return`（推薦）：  \n",
    "```python  \n",
    "def calculate_sum(a, b):  \n",
    "    return a + b  # 返回計算結果  \n",
    "\n",
    "total = calculate_sum(3, 5)  # total = 8  \n",
    "```  \n",
    "\n",
    "### 沒有 `return`（不推薦，除非必要）：  \n",
    "```python  \n",
    "def print_sum(a, b):  \n",
    "    print(a + b)  # 直接打印，不返回值  \n",
    "\n",
    "result = print_sum(3, 5)  # 輸出：8，但 result = None  \n",
    "```  \n",
    "\n",
    "---  \n",
    "\n",
    "## 5. **特殊情況：`return` 提前終止函數**  \n",
    "即使函數中有 `return`，它也會立即終止函數執行：  \n",
    "```python  \n",
    "def check_positive(nums):  \n",
    "    for num in nums:  \n",
    "        if num > 0:  \n",
    "            return True  # 遇到正數立即返回，後續不再執行  \n",
    "    return False  # 如果沒有正數，返回 False  \n",
    "\n",
    "print(check_positive([-1, -2, 3]))  # 輸出：True  \n",
    "```  \n",
    "\n",
    "---  \n",
    "\n",
    "## 總結  \n",
    "- **需要返回值**：一定要用 `return`，否則外部無法取得計算結果。  \n",
    "- **不需返回值**：可以省略 `return`，但函數會返回 `None`。  \n",
    "- **設計函數時**：根據需求決定是否使用 `return`，大多數情況下，明確返回結果會讓程式更清晰！"
   ]
  },
  {
   "cell_type": "code",
   "execution_count": null,
   "id": "40c326de",
   "metadata": {},
   "outputs": [
    {
     "name": "stdout",
     "output_type": "stream",
     "text": [
      "Doing important work. i = 0\n",
      "Doing important work. i = 1\n",
      "Doing important work. i = 2\n",
      "Doing important work. i = 3\n",
      "Doing important work. i = 4\n"
     ]
    }
   ],
   "source": [
    "for i in range(5): \n",
    "    print(\"Doing important work. i =\", i)\n"
   ]
  },
  {
   "cell_type": "code",
   "execution_count": 9,
   "id": "ab949a29",
   "metadata": {},
   "outputs": [
    {
     "name": "stdout",
     "output_type": "stream",
     "text": [
      "0 1 2 3 4 5 6 7 8 "
     ]
    }
   ],
   "source": [
    "i = 0\n",
    "while i < 9:\n",
    "    print(i,end=\" \")\n",
    "    i +=1\n"
   ]
  },
  {
   "cell_type": "code",
   "execution_count": 15,
   "id": "a69f0f5b",
   "metadata": {},
   "outputs": [
    {
     "name": "stdout",
     "output_type": "stream",
     "text": [
      "3\n"
     ]
    }
   ],
   "source": [
    "def count_negatives(nums):  #迴圈內負數的總數量\n",
    "    n_negative = 0\n",
    "    for num in nums:\n",
    "        if num < 0:\n",
    "            n_negative +=1\n",
    "    return n_negative\n",
    "\n",
    "result = count_negatives([5,-1,-10,-3,2])\n",
    "print(result)\n",
    "        "
   ]
  }
 ],
 "metadata": {
  "kernelspec": {
   "display_name": "myenv-mac",
   "language": "python",
   "name": "python3"
  },
  "language_info": {
   "codemirror_mode": {
    "name": "ipython",
    "version": 3
   },
   "file_extension": ".py",
   "mimetype": "text/x-python",
   "name": "python",
   "nbconvert_exporter": "python",
   "pygments_lexer": "ipython3",
   "version": "3.13.5"
  }
 },
 "nbformat": 4,
 "nbformat_minor": 5
}
