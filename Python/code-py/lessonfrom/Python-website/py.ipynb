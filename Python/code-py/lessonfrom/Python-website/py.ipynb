{
 "cells": [
  {
   "cell_type": "code",
   "execution_count": 1,
   "id": "fb5d437c",
   "metadata": {},
   "outputs": [
    {
     "name": "stdout",
     "output_type": "stream",
     "text": [
      "0\n",
      "1\n",
      "1\n",
      "2\n",
      "3\n",
      "5\n",
      "8\n"
     ]
    }
   ],
   "source": [
    "# 費波那契數列\n",
    "# 以兩個元素的和來決定下一個元素\n",
    "a, b = 0, 1\n",
    "while a < 10: # 當前元素小於10\n",
    "    print(a) # 輸出當前元素\n",
    "    a, b = b, a+b # 同時賦值"
   ]
  }
 ],
 "metadata": {
  "kernelspec": {
   "display_name": "myenv-windows",
   "language": "python",
   "name": "python3"
  },
  "language_info": {
   "codemirror_mode": {
    "name": "ipython",
    "version": 3
   },
   "file_extension": ".py",
   "mimetype": "text/x-python",
   "name": "python",
   "nbconvert_exporter": "python",
   "pygments_lexer": "ipython3",
   "version": "3.13.5"
  }
 },
 "nbformat": 4,
 "nbformat_minor": 5
}
