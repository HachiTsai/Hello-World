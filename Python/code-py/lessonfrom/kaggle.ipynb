{
 "cells": [
  {
   "cell_type": "markdown",
   "id": "fd78d19f",
   "metadata": {},
   "source": [
    "250626"
   ]
  },
  {
   "cell_type": "code",
   "execution_count": null,
   "id": "aabe95e2",
   "metadata": {},
   "outputs": [],
   "source": [
    "x = 14\n",
    "print(x)\n",
    "print(type(x))\n",
    "\n",
    "nearly_pi = 3.141592653589793238462643383279502884197169399375105820974944\n",
    "print(nearly_pi)\n",
    "print(type(nearly_pi))\n",
    "\n",
    "almost_pi = 3.14\n",
    "print(almost_pi)\n",
    "print(type(almost_pi))\n",
    "\n",
    "#round to 5 decimal places\n",
    "rounded_nearly_pi = round(nearly_pi, 5)    \n",
    "print(rounded_nearly_pi)\n",
    "print(type(rounded_nearly_pi))\n",
    "\n",
    "y_float =1.\n",
    "print(y_float)\n",
    "print(type(y_float))\n",
    "\n",
    "z_one = True\n",
    "print(z_one)\n",
    "print(type(z_one))\n",
    "# Correcting the boolean value\n",
    "\n",
    "z_two = False\n",
    "print(z_two)\n",
    "print(type(z_two))\n",
    "\n",
    "z_three = (1<2)\n",
    "print(z_three)\n",
    "print(type(z_three))\n",
    "\n",
    "z_four = (1>2)\n",
    "print(z_four)\n",
    "print(type(z_four))\n",
    "\n",
    "z_five = not z_four\n",
    "print(z_five)  \n",
    "print(type(z_five))\n",
    "\n",
    "w = \"Hello World!!\"\n",
    "print(w)\n",
    "print(type(w))\n",
    "\n",
    "print(len(w))  # Length of the string\n",
    "print(w[0])  # First character of the string\n",
    "print(w[1])  # Second character of the string\n",
    "print(w[4])  # Sixth character of the string\n",
    "\n",
    "\n",
    "shortest_string = \" \"\n",
    "print(type(shortest_string))\n",
    "print(len(shortest_string))  # Length of the string\n",
    "\n",
    "print(\"hello,hachi\")"
   ]
  },
  {
   "cell_type": "markdown",
   "id": "7ab12c68",
   "metadata": {},
   "source": [
    "250625"
   ]
  },
  {
   "cell_type": "code",
   "execution_count": null,
   "id": "53b8e28e",
   "metadata": {},
   "outputs": [],
   "source": [
    "def evaluate_temp(temp):\n",
    "    message = \"Normal temperature\"\n",
    "    if temp > 38:\n",
    "        message = \"Fever\"\n",
    "    elif temp >= 32:\n",
    "        message = \"Conforming to normal range\"\n",
    "    else:\n",
    "        message = \"Hypothermia\"\n",
    "    return message\n",
    "\n",
    "print(evaluate_temp(33.8))  # Output: Normal temperature\n",
    "print(evaluate_temp(37))  # Output: Fever"
   ]
  },
  {
   "cell_type": "markdown",
   "id": "eb29a8d6",
   "metadata": {},
   "source": [
    "250627"
   ]
  },
  {
   "cell_type": "code",
   "execution_count": null,
   "id": "0536162d",
   "metadata": {},
   "outputs": [],
   "source": [
    "#Kaggle_learn_Intro to Lists\n",
    "\n",
    "flowers_list = [\"pink primrose\", \"hard-leaved pocket orchid\", \"canterbury bells\", \"sweet pea\", \"english marigold\", \"tiger lily\", \"moon orchid\", \"bird of paradise\", \"monkshood\", \"globe thistle\"]\n",
    "print(flowers_list)\n",
    "print(type(flowers_list)\n",
    "      )\n",
    "print(len(flowers_list))  # Length of the list\n",
    "print(flowers_list[0])  # First element of the list\n",
    "print(flowers_list[1])  # Second element of the list\n",
    "print(\"Last_entry:\", flowers_list[9])\n",
    "print(flowers_list[-3])  # Last element of the list\n",
    "# Last element of the list\n",
    "\n",
    "hardcover_sales = [139, 128, 172, 139, 191, 168, 170]\n",
    "print(hardcover_sales)\n",
    "print(type(hardcover_sales))\n",
    "print(\"Entry at index 0:\", hardcover_sales[0])  \n",
    "print(\"Entry at index 2:\", hardcover_sales[2])  \n",
    "print(\"Minimum:\",min(hardcover_sales))# Minimum value in the list\n",
    "print(\"Maximum:\",max(hardcover_sales))# Maximum value in the list\n",
    "print(\"Sum:\",sum(hardcover_sales))# Sum of all values in the list\n",
    "print(\"Average:\", sum(hardcover_sales) / len(hardcover_sales))  # Average of the list"
   ]
  },
  {
   "cell_type": "code",
   "execution_count": null,
   "id": "fdc38232",
   "metadata": {},
   "outputs": [],
   "source": [
    "\n",
    "def percentage_liked(ratings):\n",
    "    \"\"\"\n",
    "    計算評分中達到 4 或更高的百分比。\n",
    "\n",
    "    Args:\n",
    "        ratings: 一個數字評分列表。\n",
    "\n",
    "    Returns:\n",
    "        評分中 >= 4 的比例（浮點數）。\n",
    "    \"\"\"\n",
    "    # 這裡使用生成器表達式以提高記憶體效率。\n",
    "    # 它計算喜歡的項目總數（其中 True=1, False=0），\n",
    "    # 而無需創建完整的中間列表。\n",
    "    return sum(i >= 4 for i in ratings) / len(ratings)\n",
    "\n",
    "# Do not change: should return 0.5\n",
    "print(percentage_liked([1, 2, 3, 4, 5, 4, 5, 1]))\n"
   ]
  },
  {
   "cell_type": "markdown",
   "id": "419dab72",
   "metadata": {},
   "source": [
    "250628"
   ]
  },
  {
   "cell_type": "code",
   "execution_count": null,
   "id": "1a05b7bd",
   "metadata": {},
   "outputs": [],
   "source": [
    "#STEP1 先在kaggle上建立一個新的notebook，然後在kaggle上下載3個檔案\n",
    "# This Python 3 environment comes with many helpful analytics libraries installed\n",
    "# It is defined by the kaggle/python Docker image: https://github.com/kaggle/docker-python\n",
    "# For example, here's several helpful packages to load\n",
    "\n",
    "import numpy as np # linear algebra\n",
    "import pandas as pd # data processing, CSV file I/O (e.g. pd.read_csv)\n",
    "\n",
    "# Input data files are available in the read-only \"../input/\" directory\n",
    "# For example, running this (by clicking run or pressing Shift+Enter) will list all files under the input directory\n",
    "\n",
    "import os\n",
    "for dirname, _, filenames in os.walk('/kaggle/input'):\n",
    "    for filename in filenames:\n",
    "        print(os.path.join(dirname, filename))\n",
    "\n",
    "# You can write up to 20GB to the current directory (/kaggle/working/) that gets preserved as output when you create a version using \"Save & Run All\" \n",
    "# You can also write temporary files to /kaggle/temp/, but they won't be saved outside of the current session\n",
    "\n",
    "#STEP2 從kaggle上下載3個檔案至本機後上傳到KAGGLE的個人專案INPUT資料夾\n",
    "\n",
    "#STEP3 讀取檔案\n",
    "train_data = pd.read_csv(\"/kaggle/input/titanic-hachi/train.csv\")\n",
    "train_data.head()\n",
    "\n",
    "\n"
   ]
  }
 ],
 "metadata": {
  "kernelspec": {
   "display_name": "myenv-mac",
   "language": "python",
   "name": "python3"
  },
  "language_info": {
   "codemirror_mode": {
    "name": "ipython",
    "version": 3
   },
   "file_extension": ".py",
   "mimetype": "text/x-python",
   "name": "python",
   "nbconvert_exporter": "python",
   "pygments_lexer": "ipython3",
   "version": "3.13.5"
  }
 },
 "nbformat": 4,
 "nbformat_minor": 5
}
