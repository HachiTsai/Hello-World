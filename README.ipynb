{
 "cells": [
  {
   "cell_type": "code",
   "execution_count": null,
   "id": "86176dcf",
   "metadata": {},
   "outputs": [],
   "source": [
    "# 必須升級 ipython ---%pip install --upgrade jupyter ipykernel\n",
    "\n",
    "%pip install mkdocs\n",
    "%pip install mkdocs-material-extensions\n",
    "%pip install mkdocs-jupyter\n",
    "%pip install mkdocs-material"
   ]
  }
 ],
 "metadata": {
  "kernelspec": {
   "display_name": "myenv-windows",
   "language": "python",
   "name": "python3"
  },
  "language_info": {
   "name": "python",
   "version": "3.13.5"
  }
 },
 "nbformat": 4,
 "nbformat_minor": 5
}
