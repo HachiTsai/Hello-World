{
 "cells": [
  {
   "cell_type": "code",
   "execution_count": null,
   "id": "84fbe90c",
   "metadata": {},
   "outputs": [
    {
     "name": "stdout",
     "output_type": "stream",
     "text": [
      "hachi@gmail.com\n"
     ]
    }
   ],
   "source": [
    "def replace_domain(email, old_email, new_email):\n",
    "\tif \"@\" + old_email in email:\n",
    "\t\tindex = email.index(old_email)\n",
    "\t\tnew_email = email[:index] + \"@\" + new_email\n",
    "\t\treturn new_email\n",
    "\treturn email\n",
    "\n",
    "print(replace_domain(email, old_email, new_email)) # type: ignore\n"
   ]
  },
  {
   "cell_type": "code",
   "execution_count": null,
   "id": "9ff799fb",
   "metadata": {},
   "outputs": [
    {
     "name": "stdout",
     "output_type": "stream",
     "text": [
      "This is a string of length , it's going to be 5\n",
      "a\n",
      "b\n",
      "c\n",
      "d\n",
      "e\n",
      "f\n",
      "True\n",
      "fqofiojbnqab\n",
      "FQOFIOJBNQAB\n",
      "Hello   \n",
      "   Hello\n",
      "Hello\n",
      "4\n",
      "False\n",
      "True\n",
      "['How', 'much', 'wood', 'would', 'a', 'woodchuck', 'chuck', 'if', 'a', 'woodchuck', 'could', 'chuck', 'wood?']\n",
      "['How', 'much', 'wood', 'would', 'a', 'woodchuck', 'chuck']\n",
      "How-much-plastic-would-a-plasticchuck-chuck\n",
      "How-much-wood-would-a-woodchuck-chuck\n"
     ]
    }
   ],
   "source": [
    "# type: ignore\n",
    "print (\"This is a string of length , it's going to be\", len(\"abcde\")) #檢查字串長度\n",
    "\n",
    "for c in \"abcdef\" : print(c) #檢查字串中的每個字元\n",
    "# for c in \"abcdef\" : print(c, end=\" \")  #t The answer is: a b c d e f\n",
    "\n",
    "print (\"def\" in \"abcdef\")  #檢查字串中是否包含特定子字串\n",
    "# print (\"def\" not in \"abcde\") #The answer is False.\n",
    "\n",
    "print(\"FQOfiojbnqab\".lower()) #小寫 \n",
    "print(\"FQOfiojbnqab\".upper()) #大寫\n",
    "print(\"   Hello   \".lstrip()) #消除左側空白\n",
    "print(\"   Hello   \".rstrip()) #消除右側空白\n",
    "print(\"   Hello   \".strip()) #消除兩側空白 \n",
    "\n",
    "test = \"How much wood would a woodchuck chuck if a woodchuck could chuck wood?\"\n",
    "print(test.count(\"wood\")) #計算\"wood\"出現的次數\n",
    "\n",
    "print(\"-123.45\".isnumeric()) #檢查是否為數字\n",
    "\n",
    "print(\"xyzzy\".isalpha()) #檢查是否為字母\n",
    "\n",
    "print(test.split()) #將字串分割成單詞列表\n",
    "\n",
    "test = \"How-much-wood-would-a-woodchuck-chuck\" #將字串分割成列表\n",
    "print(test.split(\"-\"))\n",
    "\n",
    "print(test.replace(\"wood\", \"plastic\"))  #將字串中的\"wood\"替換為\"plastic\"\n",
    "\n",
    "print(\"-\".join(test.split()))   #將列表中的單詞用\"-\"連接起來"
   ]
  }
 ],
 "metadata": {
  "kernelspec": {
   "display_name": "myenv",
   "language": "python",
   "name": "python3"
  },
  "language_info": {
   "codemirror_mode": {
    "name": "ipython",
    "version": 3
   },
   "file_extension": ".py",
   "mimetype": "text/x-python",
   "name": "python",
   "nbconvert_exporter": "python",
   "pygments_lexer": "ipython3",
   "version": "3.11.13"
  }
 },
 "nbformat": 4,
 "nbformat_minor": 5
}
