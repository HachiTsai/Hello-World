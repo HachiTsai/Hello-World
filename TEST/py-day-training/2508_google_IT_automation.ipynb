{
 "cells": [
  {
   "cell_type": "code",
   "execution_count": 5,
   "id": "84fbe90c",
   "metadata": {},
   "outputs": [
    {
     "name": "stdout",
     "output_type": "stream",
     "text": [
      "hachi.tsai@@gmail.com\n"
     ]
    }
   ],
   "source": [
    "def replace_domain(email, old_email, new_email):\n",
    "\tif \"@\" + old_email in email:\n",
    "\t\tindex = email.index(old_email)\n",
    "\t\tnew_email = email[:index] + \"@\" + new_email\n",
    "\t\treturn new_email\n",
    "\treturn email\n",
    "email = \"hachi.tsai@yahoo.com.tw\"  \n",
    "old_email = \"yahoo.com.tw\"  \n",
    "new_email = \"gmail.com\"  \n",
    "\n",
    "print(replace_domain(email, old_email, new_email)) # type: ignore\n"
   ]
  },
  {
   "cell_type": "code",
   "execution_count": 4,
   "id": "9ff799fb",
   "metadata": {},
   "outputs": [
    {
     "name": "stdout",
     "output_type": "stream",
     "text": [
      "This is a string of length , it's going to be 5\n",
      "a\n",
      "b\n",
      "c\n",
      "d\n",
      "e\n",
      "f\n",
      "True\n",
      "fqofiojbnqab\n",
      "FQOFIOJBNQAB\n",
      "Hello   \n",
      "   Hello\n",
      "Hello\n",
      "4\n",
      "False\n",
      "True\n",
      "['How', 'much', 'wood', 'would', 'a', 'woodchuck', 'chuck', 'if', 'a', 'woodchuck', 'could', 'chuck', 'wood?']\n",
      "['How', 'much', 'wood', 'would', 'a', 'woodchuck', 'chuck']\n",
      "How-much-plastic-would-a-plasticchuck-chuck\n",
      "How-much-wood-would-a-woodchuck-chuck\n"
     ]
    }
   ],
   "source": [
    "# type: ignore\n",
    "print (\"This is a string of length , it's going to be\", len(\"abcde\")) #檢查字串長度\n",
    "\n",
    "for c in \"abcdef\" : print(c) #檢查字串中的每個字元\n",
    "# for c in \"abcdef\" : print(c, end=\" \")  #t The answer is: a b c d e f\n",
    "\n",
    "print (\"def\" in \"abcdef\")  #檢查字串中是否包含特定子字串\n",
    "# print (\"def\" not in \"abcde\") #The answer is False.\n",
    "\n",
    "print(\"FQOfiojbnqab\".lower()) #小寫 \n",
    "print(\"FQOfiojbnqab\".upper()) #大寫\n",
    "print(\"   Hello   \".lstrip()) #消除左側空白\n",
    "print(\"   Hello   \".rstrip()) #消除右側空白\n",
    "print(\"   Hello   \".strip()) #消除兩側空白 \n",
    "\n",
    "test = \"How much wood would a woodchuck chuck if a woodchuck could chuck wood?\"\n",
    "print(test.count(\"wood\")) #計算\"wood\"出現的次數\n",
    "\n",
    "print(\"-123.45\".isnumeric()) #檢查是否為數字\n",
    "\n",
    "print(\"xyzzy\".isalpha()) #檢查是否為字母\n",
    "\n",
    "print(test.split()) #將字串分割成單詞列表\n",
    "\n",
    "test = \"How-much-wood-would-a-woodchuck-chuck\" #將字串分割成列表\n",
    "print(test.split(\"-\"))\n",
    "\n",
    "print(test.replace(\"wood\", \"plastic\"))  #將字串中的\"wood\"替換為\"plastic\"\n",
    "\n",
    "print(\"-\".join(test.split()))   #將列表中的單詞用\"-\"連接起來"
   ]
  },
  {
   "cell_type": "code",
   "execution_count": null,
   "id": "173fec86",
   "metadata": {},
   "outputs": [
    {
     "name": "stdout",
     "output_type": "stream",
     "text": [
      "['NOW', 'WE', 'ARE', 'HERE!']\n",
      "NOW\n",
      "HERE!\n"
     ]
    },
    {
     "data": {
      "text/plain": [
       "['NOW', 'WE']"
      ]
     },
     "execution_count": 4,
     "metadata": {},
     "output_type": "execute_result"
    }
   ],
   "source": [
    "x = [\"NOW\", \"WE\", \"ARE\", \"HERE!\"]\n",
    "type(x) # <class 'list'>\n",
    "\n",
    "print(x) # ['NOW', 'WE', 'ARE', 'HERE!']\n",
    "\n",
    "len(x) # 4\n",
    "\n",
    "\"are\" in x # True\n",
    "\n",
    "\"Today\" in x # False\n",
    "\n",
    "print(x[0]) # NOW\n",
    "\n",
    "print(x[4]) # IndexError: list index out of range\n",
    "\n",
    "x[1:3] # 取第1到第3個元素 ['WE', 'ARE']\n",
    "\n",
    "x[2:] # 取第2個元素到最後 ['ARE', 'HERE!']\n",
    "\n",
    "x[:2] # 取到第2個元素 ['NOW', 'WE']\n"
   ]
  },
  {
   "cell_type": "code",
   "execution_count": 16,
   "id": "afa5eab2",
   "metadata": {},
   "outputs": [
    {
     "name": "stdout",
     "output_type": "stream",
     "text": [
      "['Pineapple', 'Banana', 'Cherry', 'Apple']\n",
      "['Mango', 'Pineapple', 'Banana', 'Cherry', 'Apple']\n",
      "['Mango', 'Pineapple', 'Banana', 'Cherry', 'Apple', 'Grapes']\n",
      "['Mango', 'Pineapple', 'Cherry', 'Apple', 'Grapes']\n",
      "['Mango', 'Pineapple', 'Apple', 'Grapes']\n",
      "['Peach', 'Pineapple', 'Apple', 'Grapes']\n"
     ]
    }
   ],
   "source": [
    "fruits = [\"Pineapple\", \"Banana\", \"Cherry\"]\n",
    "fruits.append(\"Apple\")  # 添加元素\n",
    "print(fruits)  # ['Pineapple', 'Banana', 'Cherry', 'Apple']\n",
    "\n",
    "fruits.insert(0, \"Mango\")  # 在第0個位置插入元素\n",
    "print(fruits)  # ['Mango', 'Pineapple', 'Banana', 'Cherry', 'Apple']\n",
    "\n",
    "fruits.insert(5, \"Grapes\")  # 在第5個位置插入元素\n",
    "print(fruits)  # ['Mango', 'Pineapple', 'Banana', 'Cherry', 'Apple', 'Grapes']\n",
    "\n",
    "fruits.remove(\"Banana\")  # 移除元素\n",
    "print(fruits)  # ['Mango', 'Pineapple', 'Cherry', 'Apple', 'Grapes']\n",
    "\n",
    "fruits.pop(2)  # 移除並返回第2個元素\n",
    "print(fruits)  # ['Mango', 'Pineapple', 'Apple', 'Grapes']\n",
    "\n",
    "fruits[0] = \"Peach\"  # 修改第3個元素\n",
    "print(fruits)  # ['Peach', 'Pineapple', 'Apple', 'Grapes']"
   ]
  },
  {
   "cell_type": "code",
   "execution_count": 20,
   "id": "8081357a",
   "metadata": {},
   "outputs": [
    {
     "name": "stdout",
     "output_type": "stream",
     "text": [
      "(1, 23, 20)\n",
      "1 23 20\n",
      "0 16 40\n"
     ]
    }
   ],
   "source": [
    "# https://www.coursera.org/learn/python-crash-course/supplement/A30Rl/tuples\n",
    "\n",
    "def convert_seconds(seconds):\n",
    "    hours = seconds // 3600\n",
    "    minutes = (seconds - hours * 3600) // 60\n",
    "    remaining_seconds = seconds - hours * 3600 - minutes * 60\n",
    "    return hours, minutes, remaining_seconds\n",
    "\n",
    "result = convert_seconds(5000)\n",
    "type(result) # <class 'tuple'>\n",
    "\n",
    "print(result)  # (1, 23, 20)\n",
    "\n",
    "hours, minutes, seconds = result  # 解包元組\n",
    "print(hours, minutes, seconds)  # 1 23 20\n",
    "\n",
    "hours, minutes, seconds = convert_seconds(1000)  # 解包元組\n",
    "print(hours, minutes, seconds)  # 0 16 40\n"
   ]
  },
  {
   "cell_type": "code",
   "execution_count": null,
   "id": "3121d4cc",
   "metadata": {},
   "outputs": [
    {
     "name": "stdout",
     "output_type": "stream",
     "text": [
      "Total characters: 22, Average length: 5.5\n",
      "1 - Ashley\n",
      "2 - Dylan\n",
      "3 - Reese\n",
      "['Alex Diego <alex@example.com>', 'Shay Brandt <shay@example.com>']\n"
     ]
    }
   ],
   "source": [
    "# 20250816\n",
    "\n",
    "animals = [\"Lion\", \"Zebra\", \"Dolphin\", \"Monkey\"]\n",
    "chars = 0\n",
    "for animal in animals: # 遍歷列表\n",
    "  chars += len(animal) # 累加字符長度\n",
    "\n",
    "print(\"Total characters: {}, Average length: {}\".format(chars, chars/len(animals))) \n",
    "# Total characters: 22, Average length: 5.5\n",
    "\n",
    "\n",
    "## enumerate (function?) \n",
    "winners = [\"Ashley\", \"Dylan\", \"Reese\"] \n",
    "for index, person in enumerate(winners):  # 遍歷列表，並獲取索引和值\n",
    "  print(\"{} - {}\".format(index + 1, person)) \n",
    "  \n",
    "  \n",
    " \n",
    "\n",
    "def full_emails(people): # 遍歷列表，並獲取索引和值\n",
    "  result = []   \n",
    "  for email, name in people:\n",
    "    result.append(\"{} <{}>\".format(name, email)) #  將名字和郵箱組合成字符串\n",
    "  return result #   返回結果\n",
    "print(full_emails([(\"alex@example.com\", \"Alex Diego\"), (\"shay@example.com\", \"Shay Brandt\")])) "
   ]
  },
  {
   "cell_type": "code",
   "execution_count": 7,
   "id": "270dfc85",
   "metadata": {},
   "outputs": [
    {
     "name": "stdout",
     "output_type": "stream",
     "text": [
      "[7, 14, 21, 28, 35, 42, 49, 56, 63, 70]\n",
      "[7, 14, 21, 28, 35, 42, 49, 56, 63, 70]\n",
      "[6, 7, 4, 2]\n",
      "[3, 6, 9, 12, 15, 18, 21, 24, 27, 30, 33, 36, 39, 42, 45, 48, 51, 54, 57, 60, 63, 66, 69, 72, 75, 78, 81, 84, 87, 90, 93, 96, 99]\n"
     ]
    }
   ],
   "source": [
    "multiples = []\n",
    "for x in range(1,11):\n",
    "    multiples.append(x*7)\n",
    "    \n",
    "print(multiples)\n",
    "\n",
    "multiples = [x*7 for x in range(1,11)]\n",
    "print(multiples)\n",
    "\n",
    "langugues = [\"Python\",\"Mermaid\",\"Perl\",\"Go\"]\n",
    "lengths = [len(langugue) for langugue in langugues]\n",
    "print(lengths)\n",
    "\n",
    "z = [x for x in range(1,101) if x % 3 == 0]\n",
    "print(z)"
   ]
  },
  {
   "cell_type": "code",
   "execution_count": 37,
   "id": "21cfefaa",
   "metadata": {},
   "outputs": [
    {
     "name": "stdout",
     "output_type": "stream",
     "text": [
      "{'shirt': ['red', 'blue', 'white'], 'jeans': ['white'], 'scarf': ['yellow'], 'socks': ['black', 'brown']}\n"
     ]
    }
   ],
   "source": [
    "wardrobe = {'shirt': ['red', 'blue', 'white'], 'jeans': ['blue', 'black']}\n",
    "new_items = {'jeans': ['white'], 'scarf': ['yellow'], 'socks': ['black', 'brown']}\n",
    "wardrobe.update(new_items)\n",
    "\n",
    "print(wardrobe)\n"
   ]
  },
  {
   "cell_type": "code",
   "execution_count": null,
   "id": "a88c6eba",
   "metadata": {},
   "outputs": [],
   "source": [
    "names = [\"Carlos\", \"Ray\", \"Alex\", \"Kelly\"] # 名字列表\n",
    "print(sorted(names)) # 按字母顺序排序\n",
    "print(names)\n",
    "print(sorted(names, key=len)) # 按名字长度排序\n"
   ]
  },
  {
   "cell_type": "code",
   "execution_count": null,
   "id": "ef95d841",
   "metadata": {},
   "outputs": [],
   "source": [
    "def current_users(events): \n",
    "  events.sort(key=get_event_date) # type: ignore\n",
    "  machines = {}\n",
    "  for event in events:\n",
    "    if event.machine not in machines:\n",
    "      machines[event.machine] = set()\n",
    "    if event.type == \"login\":\n",
    "      machines[event.machine].add(event.user)\n",
    "    elif event.type == \"logout\":\n",
    "      machines[event.machine].remove(event.user)\n",
    "  return machines\n",
    "\n",
    "def generate_report(machines):\n",
    "  for machine, users in machines.items():\n",
    "    if len(users) > 0:\n",
    "      user_list = \", \".join(users)\n",
    "      print(\"{}: {}\".format(machine, user_list))"
   ]
  }
 ],
 "metadata": {
  "kernelspec": {
   "display_name": "myenv",
   "language": "python",
   "name": "python3"
  },
  "language_info": {
   "codemirror_mode": {
    "name": "ipython",
    "version": 3
   },
   "file_extension": ".py",
   "mimetype": "text/x-python",
   "name": "python",
   "nbconvert_exporter": "python",
   "pygments_lexer": "ipython3",
   "version": "3.11.13"
  }
 },
 "nbformat": 4,
 "nbformat_minor": 5
}
