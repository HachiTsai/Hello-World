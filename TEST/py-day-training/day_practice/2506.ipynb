{
 "cells": [
  {
   "cell_type": "code",
   "execution_count": 1,
   "id": "eebcf38f",
   "metadata": {},
   "outputs": [
    {
     "name": "stdout",
     "output_type": "stream",
     "text": [
      "['apple', 'coconut', 'cherry', 'date', 'elderberry', 'grape']\n"
     ]
    }
   ],
   "source": [
    "fruits = ['apple', 'banana', 'cherry', 'date', 'elderberry']\n",
    "fruits[1] = 'coconut'   \n",
    "fruits.append('grape')\n",
    "print(fruits)   "
   ]
  },
  {
   "cell_type": "code",
   "execution_count": 2,
   "id": "705d3fb7",
   "metadata": {},
   "outputs": [
    {
     "name": "stdout",
     "output_type": "stream",
     "text": [
      "偶數\n"
     ]
    }
   ],
   "source": [
    "num = 10\n",
    "if num%2 == 0:\n",
    "    print(\"偶數\")\n",
    "else:\n",
    "    print(\"奇數\")"
   ]
  },
  {
   "cell_type": "code",
   "execution_count": 3,
   "id": "c6add3a4",
   "metadata": {},
   "outputs": [
    {
     "name": "stdout",
     "output_type": "stream",
     "text": [
      "['I', 'LOVE', 'PYTHON', 'PROGRAMMING.']\n"
     ]
    }
   ],
   "source": [
    "sentence = \"I love Python programming.\"\n",
    "words = sentence.split()\n",
    "capitalized = [word.upper() for word in words]\n",
    "print(capitalized)"
   ]
  },
  {
   "cell_type": "code",
   "execution_count": 4,
   "id": "a951cb19",
   "metadata": {},
   "outputs": [
    {
     "name": "stdout",
     "output_type": "stream",
     "text": [
      "1的平方是 1\n",
      "2的平方是 4\n",
      "3的平方是 9\n",
      "4的平方是 16\n",
      "5的平方是 25\n",
      "6的平方是 36\n",
      "7的平方是 49\n",
      "8的平方是 64\n",
      "9的平方是 81\n",
      "10的平方是 100\n"
     ]
    }
   ],
   "source": [
    "for i in range(1, 11):\n",
    "    print(f\"{i}的平方是 {i**2}\")"
   ]
  }
 ],
 "metadata": {
  "kernelspec": {
   "display_name": ".venv",
   "language": "python",
   "name": "python3"
  },
  "language_info": {
   "codemirror_mode": {
    "name": "ipython",
    "version": 3
   },
   "file_extension": ".py",
   "mimetype": "text/x-python",
   "name": "python",
   "nbconvert_exporter": "python",
   "pygments_lexer": "ipython3",
   "version": "3.13.5"
  }
 },
 "nbformat": 4,
 "nbformat_minor": 5
}
