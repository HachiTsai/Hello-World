{
 "cells": [
  {
   "cell_type": "code",
   "execution_count": 11,
   "id": "84fbe90c",
   "metadata": {},
   "outputs": [
    {
     "name": "stdout",
     "output_type": "stream",
     "text": [
      "hachi@gmail.com\n"
     ]
    }
   ],
   "source": [
    "def replace_domain(email, old_email, new_email):\n",
    "\tif \"@\" + old_email in email:\n",
    "\t\tindex = email.index(old_email)\n",
    "\t\tnew_email = email[:index] + \"@\" + new_email\n",
    "\t\treturn new_email\n",
    "\treturn email\n",
    "\n",
    "print(replace_domain(email, old_email, new_email))\n"
   ]
  }
 ],
 "metadata": {
  "kernelspec": {
   "display_name": "myenv",
   "language": "python",
   "name": "python3"
  },
  "language_info": {
   "codemirror_mode": {
    "name": "ipython",
    "version": 3
   },
   "file_extension": ".py",
   "mimetype": "text/x-python",
   "name": "python",
   "nbconvert_exporter": "python",
   "pygments_lexer": "ipython3",
   "version": "3.11.13"
  }
 },
 "nbformat": 4,
 "nbformat_minor": 5
}
