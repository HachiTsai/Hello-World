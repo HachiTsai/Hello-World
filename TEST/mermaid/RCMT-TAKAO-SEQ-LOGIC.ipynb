{
 "cells": [
  {
   "cell_type": "markdown",
   "id": "d9ecc781",
   "metadata": {},
   "source": [
    "# RCMT-TAKAO-SEQ-002\n",
    "\n",
    "# 我的流程圖\n",
    "\n",
    "```mermaid\n",
    "flowchart TD\n",
    "    subgraph 平行檢查\n",
    "    A1[/DB0049]\n",
    "    A2[/DI0093]\n",
    "    A3[/DI0001]\n",
    "    end\n",
    "    \n",
    "    A1 -->|TRUE| B[MF01 = TRUE]\n",
    "    A2 -->|TRUE| B\n",
    "    A3 -->|TRUE| B\n",
    "    \n",
    "    A1 -->|FALSE| C1{檢查完成?}\n",
    "    A2 -->|FALSE| C1\n",
    "    A3 -->|FALSE| C1\n",
    "    \n",
    "    C1 -->|是| D{所有訊號都FALSE?}\n",
    "    D -->|是| E[MF01 = FALSE]\n",
    "    D -->|否| B\n"
   ]
  }
 ],
 "metadata": {
  "language_info": {
   "name": "python"
  }
 },
 "nbformat": 4,
 "nbformat_minor": 5
}
