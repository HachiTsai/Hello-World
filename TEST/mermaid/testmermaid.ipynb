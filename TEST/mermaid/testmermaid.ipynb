{
 "cells": [
  {
   "cell_type": "markdown",
   "id": "f8eeebf0",
   "metadata": {},
   "source": [
    "# Mermaid官方網站\n",
    "https://mermaid.js.org/syntax/classDiagram.html"
   ]
  },
  {
   "cell_type": "code",
   "execution_count": null,
   "id": "fbffbad7",
   "metadata": {},
   "outputs": [],
   "source": [
    "# 必須升級 ipython ---%pip install --upgrade jupyter ipykernel\n",
    "\n",
    "%pip install mkdocs\n",
    "%pip install mkdocs-material-extensions\n",
    "%pip install mkdocs-jupyter\n",
    "%pip install mkdocs-material"
   ]
  },
  {
   "cell_type": "markdown",
   "id": "b114fe42",
   "metadata": {},
   "source": [
    "```mermaid\n",
    "graph LR \n",
    "    A1[DB0049] -->|\"<font color='red' style='background-color:white;font-style:italic; font-weight:bold'>NOT</font>\"| C1{任一訊號為TRUE}\n",
    "    B1[D0093] -->|\"<font color='red' style='background-color:white;font-style:italic; font-weight:bold'>NOT</font>\"| C1\n",
    "```\n"
   ]
  },
  {
   "cell_type": "markdown",
   "id": "6c0737c2",
   "metadata": {},
   "source": [
    "```mermaid\n",
    "---\n",
    "title: Animal example\n",
    "---\n",
    "classDiagram\n",
    "    note \"From Duck till Zebra\"\n",
    "    Animal <|-- Duck\n",
    "    note for Duck \"can fly\\ncan swim\\ncan dive\\ncan help in debugging\"\n",
    "    Animal <|-- Fish\n",
    "    Animal <|-- Zebra\n",
    "    Animal : +int age\n",
    "    Animal : +String gender\n",
    "    Animal: +isMammal()\n",
    "    Animal: +mate()\n",
    "    class Duck{\n",
    "        +String beakColor\n",
    "        +swim()\n",
    "        +quack()\n",
    "    }\n",
    "    class Fish{\n",
    "        -int sizeInFeet\n",
    "        -canEat()\n",
    "    }\n",
    "    class Zebra{\n",
    "        +bool is_wild\n",
    "        +run()\n",
    "    }\n",
    "```"
   ]
  },
  {
   "cell_type": "markdown",
   "id": "0e3771f5",
   "metadata": {},
   "source": [
    "```mermaid\n",
    "classDiagram\n",
    "    class `Animal Class!`\n",
    "    class `Car Class`\n",
    "    `Animal Class!` --> `Car Class`\n",
    "```"
   ]
  },
  {
   "cell_type": "markdown",
   "id": "1cc47331",
   "metadata": {},
   "source": [
    "```mermaid\n",
    "flowchart LR\n",
    "    A1[DB0049] -->|\"NOT\"| C1{{任一訊號為 TRUE}}\n",
    "    B1[DI0093] -->|\"NOT\"| C1\n",
    "    C1 -->|TRUE| E1[✅ MF01 = TRUE]\n",
    "\n",
    "    linkStyle 0 color:red;\n",
    "    classDef critical fill:#black,stroke:#ff0000,stroke-width:2px;\n",
    "    class A1,B1,E1 critical\n",
    "```"
   ]
  }
 ],
 "metadata": {
  "kernelspec": {
   "display_name": ".venv",
   "language": "python",
   "name": "python3"
  },
  "language_info": {
   "codemirror_mode": {
    "name": "ipython",
    "version": 3
   },
   "file_extension": ".py",
   "mimetype": "text/x-python",
   "name": "python",
   "nbconvert_exporter": "python",
   "pygments_lexer": "ipython3",
   "version": "3.11.9"
  }
 },
 "nbformat": 4,
 "nbformat_minor": 5
}
