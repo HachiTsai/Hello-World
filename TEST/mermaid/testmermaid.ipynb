{
 "cells": [
  {
   "cell_type": "code",
   "execution_count": 16,
   "id": "b114fe42",
   "metadata": {},
   "outputs": [
    {
     "data": {
      "text/html": [
       "\n",
       "<div class=\"mermaid\">\n",
       "flowchart LR\n",
       "  subgraph SEQ001 判斷流程\n",
       "    A1[DB0049] -->|\"<font color='red' style='background-color:white;font-style:italic; font-weight:bold'>NOT</font>\"| C1{任一訊號為TRUE}\n",
       "    B1[D0093] -->|\"<font color='red' style='background-color:white;font-style:italic; font-weight:bold'>NOT</font>\"| C1\n",
       "    ...\n",
       "  end\n",
       "</div>\n",
       "\n",
       "<script src=\"https://cdn.jsdelivr.net/npm/mermaid@11/dist/mermaid.min.js\"></script>\n",
       "<script>mermaid.initialize({ startOnLoad: true });</script>\n"
      ],
      "text/plain": [
       "<IPython.core.display.HTML object>"
      ]
     },
     "execution_count": 16,
     "metadata": {},
     "output_type": "execute_result"
    }
   ],
   "source": [
    "from IPython.display import HTML\n",
    "\n",
    "HTML(\"\"\"\n",
    "<div class=\"mermaid\">\n",
    "flowchart LR\n",
    "  subgraph SEQ001 判斷流程\n",
    "    A1[DB0049] -->|\"<font color='red' style='background-color:white;font-style:italic; font-weight:bold'>NOT</font>\"| C1{任一訊號為TRUE}\n",
    "    B1[D0093] -->|\"<font color='red' style='background-color:white;font-style:italic; font-weight:bold'>NOT</font>\"| C1\n",
    "    ...\n",
    "  end\n",
    "</div>\n",
    "\n",
    "<script src=\"https://cdn.jsdelivr.net/npm/mermaid@11/dist/mermaid.min.js\"></script>\n",
    "<script>mermaid.initialize({ startOnLoad: true });</script>\n",
    "\"\"\")\n"
   ]
  },
  {
   "cell_type": "code",
   "execution_count": 17,
   "id": "e5501e79",
   "metadata": {},
   "outputs": [
    {
     "data": {
      "text/html": [
       "\n",
       "<div class=\"mermaid\">\n",
       "flowchart LR\n",
       "  subgraph MF01判斷\n",
       "    A1[DB0049] -->|\"<font color='red' style='background-color:white;font-style:italic; font-weight:bold'>NOT</font>\"| C1{任一訊號為TRUE}\n",
       "    B1[DI0093] -->|\"<font color='red' style='background-color:white;font-style:italic; font-weight:bold'>NOT</font>\"| C1\n",
       "    D1[DI0001] -->|\"<font color='red' style='background-color:white;font-style:italic; font-weight:bold'>NOT</font>\"| C1\n",
       "    G1[IN0101] -->|TRUE| C1\n",
       "    H1[IN0102] -->|TRUE| C1\n",
       "    I1[IN0103] -->|TRUE| C1\n",
       "    L1[IN0108] -->|TRUE| C1\n",
       "    J1[IN0152] -->|TRUE| C1\n",
       "    K1[IN0131] -->|TRUE| C1\n",
       "    C1 -->|TRUE| E1[MF01 = TRUE]\n",
       "    C1 -->|FALSE| F1[MF01 維持 FALSE]\n",
       "  end\n",
       "\n",
       "  subgraph MF02判斷\n",
       "    A2[DI0052] -->|\"<font color='red' style='background-color:white;font-style:italic; font-weight:bold'>NOT</font>\"| C2\n",
       "    B2[DI0050] -->|\"<font color='red' style='background-color:white;font-style:italic; font-weight:bold'>NOT</font>\"| C2\n",
       "    G2[IN0154] -->|TRUE| C2\n",
       "    H2[IN0165] -->|TRUE| C2\n",
       "    I2[IN0166] -->|TRUE| C2\n",
       "    C2 -->|TRUE| E2[MF02 = TRUE]\n",
       "    C2 -->|FALSE| F2[MF02 維持 FALSE]\n",
       "  end\n",
       "\n",
       "  subgraph MF03判斷\n",
       "    A3[IN0168] -->|TRUE| C3\n",
       "    B3[IN0169] -->|TRUE| C3\n",
       "    D3[IN0170] -->|TRUE| C3\n",
       "    G3[IN0171] -->|TRUE| C3\n",
       "    H3[IN0172] -->|TRUE| C3\n",
       "    I3[IN0173] -->|TRUE| C3\n",
       "    C3 -->|TRUE| E3[MF03 = TRUE]\n",
       "    C3 -->|FALSE| F3[MF03 維持 FALSE]\n",
       "  end\n",
       "\n",
       "  subgraph MF條件判斷\n",
       "    E1 --> C4{任一MF為TRUE}\n",
       "    E2 --> C4\n",
       "    E3 --> C4\n",
       "    C4 -->|TRUE| K4[UA0251 = TRUE]\n",
       "    C4 -->|FALSE| K5[UA0251 維持 FALSE]\n",
       "  end\n",
       "\n",
       "  subgraph 警報復歸\n",
       "    K4 -->|\"<font color='red' style='background-color:white;font-style:italic; font-weight:bold'>NOT UA0251=0</font>\"| B4[DO0037=TRUE]\n",
       "  end\n",
       "</div>\n",
       "\n",
       "<script src=\"https://cdn.jsdelivr.net/npm/mermaid@11/dist/mermaid.min.js\"></script>\n",
       "<script>mermaid.initialize({ startOnLoad: true });</script>\n"
      ],
      "text/plain": [
       "<IPython.core.display.HTML object>"
      ]
     },
     "execution_count": 17,
     "metadata": {},
     "output_type": "execute_result"
    }
   ],
   "source": [
    "from IPython.display import HTML\n",
    "\n",
    "HTML(\"\"\"\n",
    "<div class=\"mermaid\">\n",
    "flowchart LR\n",
    "  subgraph MF01判斷\n",
    "    A1[DB0049] -->|\"<font color='red' style='background-color:white;font-style:italic; font-weight:bold'>NOT</font>\"| C1{任一訊號為TRUE}\n",
    "    B1[DI0093] -->|\"<font color='red' style='background-color:white;font-style:italic; font-weight:bold'>NOT</font>\"| C1\n",
    "    D1[DI0001] -->|\"<font color='red' style='background-color:white;font-style:italic; font-weight:bold'>NOT</font>\"| C1\n",
    "    G1[IN0101] -->|TRUE| C1\n",
    "    H1[IN0102] -->|TRUE| C1\n",
    "    I1[IN0103] -->|TRUE| C1\n",
    "    L1[IN0108] -->|TRUE| C1\n",
    "    J1[IN0152] -->|TRUE| C1\n",
    "    K1[IN0131] -->|TRUE| C1\n",
    "    C1 -->|TRUE| E1[MF01 = TRUE]\n",
    "    C1 -->|FALSE| F1[MF01 維持 FALSE]\n",
    "  end\n",
    "\n",
    "  subgraph MF02判斷\n",
    "    A2[DI0052] -->|\"<font color='red' style='background-color:white;font-style:italic; font-weight:bold'>NOT</font>\"| C2\n",
    "    B2[DI0050] -->|\"<font color='red' style='background-color:white;font-style:italic; font-weight:bold'>NOT</font>\"| C2\n",
    "    G2[IN0154] -->|TRUE| C2\n",
    "    H2[IN0165] -->|TRUE| C2\n",
    "    I2[IN0166] -->|TRUE| C2\n",
    "    C2 -->|TRUE| E2[MF02 = TRUE]\n",
    "    C2 -->|FALSE| F2[MF02 維持 FALSE]\n",
    "  end\n",
    "\n",
    "  subgraph MF03判斷\n",
    "    A3[IN0168] -->|TRUE| C3\n",
    "    B3[IN0169] -->|TRUE| C3\n",
    "    D3[IN0170] -->|TRUE| C3\n",
    "    G3[IN0171] -->|TRUE| C3\n",
    "    H3[IN0172] -->|TRUE| C3\n",
    "    I3[IN0173] -->|TRUE| C3\n",
    "    C3 -->|TRUE| E3[MF03 = TRUE]\n",
    "    C3 -->|FALSE| F3[MF03 維持 FALSE]\n",
    "  end\n",
    "\n",
    "  subgraph MF條件判斷\n",
    "    E1 --> C4{任一MF為TRUE}\n",
    "    E2 --> C4\n",
    "    E3 --> C4\n",
    "    C4 -->|TRUE| K4[UA0251 = TRUE]\n",
    "    C4 -->|FALSE| K5[UA0251 維持 FALSE]\n",
    "  end\n",
    "\n",
    "  subgraph 警報復歸\n",
    "    K4 -->|\"<font color='red' style='background-color:white;font-style:italic; font-weight:bold'>NOT UA0251=0</font>\"| B4[DO0037=TRUE]\n",
    "  end\n",
    "</div>\n",
    "\n",
    "<script src=\"https://cdn.jsdelivr.net/npm/mermaid@11/dist/mermaid.min.js\"></script>\n",
    "<script>mermaid.initialize({ startOnLoad: true });</script>\n",
    "\"\"\")\n"
   ]
  },
  {
   "cell_type": "code",
   "execution_count": 14,
   "id": "6c0737c2",
   "metadata": {},
   "outputs": [
    {
     "data": {
      "text/html": [
       "\n",
       "<div class=\"mermaid\">\n",
       "graph TD;\n",
       "    🟢 啟動 --> 🧠 分析 --> ✅ 完成\n",
       "</div>\n",
       "\n",
       "<script src=\"https://cdn.jsdelivr.net/npm/mermaid@11/dist/mermaid.min.js\"></script>\n",
       "<script>mermaid.initialize({ startOnLoad: true });</script>\n"
      ],
      "text/plain": [
       "<IPython.core.display.HTML object>"
      ]
     },
     "execution_count": 14,
     "metadata": {},
     "output_type": "execute_result"
    }
   ],
   "source": [
    "from IPython.display import HTML\n",
    "\n",
    "HTML(\"\"\"\n",
    "<div class=\"mermaid\">\n",
    "graph TD;\n",
    "    🟢 啟動 --> 🧠 分析 --> ✅ 完成\n",
    "</div>\n",
    "\n",
    "<script src=\"https://cdn.jsdelivr.net/npm/mermaid@11/dist/mermaid.min.js\"></script>\n",
    "<script>mermaid.initialize({ startOnLoad: true });</script>\n",
    "\"\"\")\n"
   ]
  }
 ],
 "metadata": {
  "kernelspec": {
   "display_name": "Python 3",
   "language": "python",
   "name": "python3"
  },
  "language_info": {
   "codemirror_mode": {
    "name": "ipython",
    "version": 3
   },
   "file_extension": ".py",
   "mimetype": "text/x-python",
   "name": "python",
   "nbconvert_exporter": "python",
   "pygments_lexer": "ipython3",
   "version": "3.11.9"
  }
 },
 "nbformat": 4,
 "nbformat_minor": 5
}
