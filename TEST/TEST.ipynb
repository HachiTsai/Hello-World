{
 "cells": [
  {
   "cell_type": "code",
   "execution_count": 3,
   "id": "b47f1364",
   "metadata": {},
   "outputs": [
    {
     "name": "stdout",
     "output_type": "stream",
     "text": [
      "✅ 交易成功：已轉移能源。\n"
     ]
    }
   ],
   "source": [
    "# 定義參數\n",
    "buyer = \"Hachi\"\n",
    "seller = \"SolarFarm_A\"\n",
    "energy_kWh = 100\n",
    "price_per_kWh = 0.12\n",
    "payment_received = float(input(\"請輸入付款金額（美元）：\"))\n",
    "\n",
    "# 執行交易判斷\n",
    "if payment_received >= energy_kWh * price_per_kWh:\n",
    "    print(\"✅ 交易成功：已轉移能源。\")\n",
    "else:\n",
    "    print(\"❌ 付款不足：交易失敗。\")"
   ]
  }
 ],
 "metadata": {
  "kernelspec": {
   "display_name": "Python 3",
   "language": "python",
   "name": "python3"
  },
  "language_info": {
   "codemirror_mode": {
    "name": "ipython",
    "version": 3
   },
   "file_extension": ".py",
   "mimetype": "text/x-python",
   "name": "python",
   "nbconvert_exporter": "python",
   "pygments_lexer": "ipython3",
   "version": "3.12.1"
  }
 },
 "nbformat": 4,
 "nbformat_minor": 5
}
