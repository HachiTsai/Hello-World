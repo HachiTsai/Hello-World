{
 "cells": [
  {
   "cell_type": "markdown",
   "id": "06ef1b14",
   "metadata": {},
   "source": [
    "```mermaid\n",
    "flowchart LR\n",
    "    %% Input Signals\n",
    "    X1[AI0000]\n",
    "\n",
    "\n",
    "    %% Function Blocks\n",
    "    F02[F02 AINP B05<br>一般入力演算処理演算器]\n",
    "    F10[F10 AMLD B20<br>乗除算演算器]\n",
    "    F09[F09 AADS B10<br>加減算演算器]\n",
    "\n",
    "    %% Connections\n",
    "    X1 --> F02\n",
    "    F02 --> F10\n",
    "\n",
    "    X1 --> F09\n",
    "```\n"
   ]
  }
 ],
 "metadata": {
  "language_info": {
   "name": "python"
  }
 },
 "nbformat": 4,
 "nbformat_minor": 5
}
