{
 "cells": [
  {
   "cell_type": "code",
   "execution_count": null,
   "id": "aa339e85",
   "metadata": {},
   "outputs": [],
   "source": [
    "%conda search --outdated #列出過期的套件"
   ]
  },
  {
   "cell_type": "code",
   "execution_count": null,
   "id": "ffd9fe09",
   "metadata": {},
   "outputs": [],
   "source": [
    "%conda update --all --dry-run #模擬更新所有套件"
   ]
  },
  {
   "cell_type": "code",
   "execution_count": null,
   "id": "6f860b54",
   "metadata": {},
   "outputs": [],
   "source": [
    "%conda update --all -c conda-forge #更新所有套件，並指定conda-forge頻道"
   ]
  },
  {
   "cell_type": "code",
   "execution_count": null,
   "id": "4dc1350f",
   "metadata": {},
   "outputs": [],
   "source": [
    "%conda update -n base conda # 更新conda本身\n"
   ]
  },
  {
   "cell_type": "code",
   "execution_count": null,
   "id": "a525cb2e",
   "metadata": {},
   "outputs": [],
   "source": [
    "#20250829已執行\n",
    "%conda update py-opencv #安裝opencv套件，並指定conda-forge頻道\n",
    "%conda update opencv \n",
    "%conda update libopencv"
   ]
  },
  {
   "cell_type": "markdown",
   "id": "775c2b51",
   "metadata": {},
   "source": [
    "# Conda 快速操作筆記\n",
    "\n",
    "## 🧪 Conda ipypkernel錯誤大魔王對策\n",
    "\n",
    "---\n",
    "\n",
    "## 原因列表\n",
    "\n",
    "| 原因       | 對策                                      |\n",
    "|------------|-----------------------------------------------|\n",
    "| 指定的CONDA環境下沒有python | `conda install python -c conda-forge`|\n",
    "| conda 的python版本與ipykernel核心版本不一致  | `conda list python` 和查看ipykernel python版本    |\n",
    "| 確定python 安裝的位置 | `where python` \"windows\"|\n",
    "| 有可能使用到base環境需另新增 | `conda create -n myenv-windows python =3.13.5` |\n",
    "| 重新安裝並指定conda頻道 | `conda install python mkdocs jupyter nodejs sqlite numpy pandas matplotlib pytorch opencv postgresql -c conda-forge`|\n",
    "\n",
    "---\n",
    "\n",
    "## 🎯 基本環境操作\n",
    "\n",
    "本筆記整理常用 Conda 指令與操作技巧，適用於 Python 環境管理、專案部署與 VSCode 整合。\n",
    "\n",
    "| 功能       | 指令範例                                      |\n",
    "|------------|-----------------------------------------------|\n",
    "| 查看所有環境 | `conda info --envs`                           |\n",
    "| 建立新環境   | `conda create -n myenv-name python=3.13.5`         |\n",
    "| 刪除環境     | `conda remove --name 舊環境名稱 --all`        |\n",
    "| 啟用環境     | `conda activate 環境名稱`                     |\n",
    "| 關閉環境     | `conda deactivate`                            |\n",
    "| 建立新環境    | `conda create -n myenv python=3.15`          |\n",
    "| 匯入套件    | `pip install -r requirements.txt`          |\n",
    "| 檢查已安裝套件是否有新版    | `pip-review --local or pip-upgrade`   |\n",
    "| 更新所有套件    | `conda update -n myenv --all`      |\n",
    "| 檢查現有頻道    | `conda config --show channels`     |\n",
    "| 檢查現有頻道優先順序    | `conda config --show channel_priority`     |\n",
    "| 設定優先順序    | `conda config --set channel_priority strict`     |\n",
    "| 導出跨平台一致性版本yml    | `conda env export --no-builds > environment.yml`     |\n",
    "| 調整頻道順序   | `conda config --prepend channels conda-forge`     |\n",
    "| 移除頻道   | `conda config --remove channels conda-forge`     |\n",
    "\n",
    "---\n",
    "\n",
    "## 📦 套件管理\n",
    "\n",
    "| 功能         | 指令範例                              |\n",
    "|--------------|---------------------------------------|\n",
    "| 安裝套件     | `conda install pandas` 或 `pip install plotly` |\n",
    "| 移除套件     | `conda remove matplotlib`             |\n",
    "| 更新套件     | `conda update numpy`                  |\n",
    "| 查詢套件     | `conda list`、`conda search openpyxl` |\n",
    "| 更新 Conda 本身 | `conda update -n base conda`            |\n",
    "| 使用 conda clean 清理快取 | `conda clean --all`            |\n",
    "| 指定頻道安裝 | `conda install pakage -c conda-forge`  |\n",
    "\n",
    "---\n",
    "\n",
    "## 🔧 環境備份與複製\n",
    "\n",
    "| 功能           | 指令範例                                         |\n",
    "|----------------|--------------------------------------------------|\n",
    "| 匯出為 YAML 檔   | `conda env export > environment.yml`            |\n",
    "| 從 YAML 匯入環境 | `conda env create -f environment.yml`           |\n",
    "| 複製環境        | `conda create --name new-env --clone old-env`   |\n",
    "| 從YAML更新現有環境        | `conda env update --file environment.yml`|\n",
    "| 確認conda頻道優先順序     | `conda config --show channels`|\n",
    "\n",
    "---\n",
    "[//]: 確認conda頻道優先順序 (這是一段註解)\n"
   ]
  }
 ],
 "metadata": {
  "kernelspec": {
   "display_name": "myenv-mac",
   "language": "python",
   "name": "python3"
  },
  "language_info": {
   "codemirror_mode": {
    "name": "ipython",
    "version": 3
   },
   "file_extension": ".py",
   "mimetype": "text/x-python",
   "name": "python",
   "nbconvert_exporter": "python",
   "pygments_lexer": "ipython3",
   "version": "3.13.5"
  }
 },
 "nbformat": 4,
 "nbformat_minor": 5
}
