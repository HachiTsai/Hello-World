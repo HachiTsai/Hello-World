{
 "cells": [
  {
   "cell_type": "code",
   "execution_count": null,
   "id": "86176dcf",
   "metadata": {},
   "outputs": [],
   "source": [
    "# 必須升級 ipython ---%pip install --upgrade jupyter ipykernel\n",
    "\n",
    "%pip install mkdocs\n",
    "%pip install ipykernel\n",
    "%pip install mkdocs-material-extensions\n",
    "%pip install mkdocs-jupyter\n",
    "%pip install mkdocs-material"
   ]
  },
  {
   "cell_type": "code",
   "execution_count": null,
   "id": "d09d6557",
   "metadata": {},
   "outputs": [],
   "source": [
    "%pip install --upgrade ipykernel jupyter ipywidgets"
   ]
  }
 ],
 "metadata": {
  "kernelspec": {
   "display_name": "myenv-windows",
   "language": "python",
   "name": "python3"
  },
  "language_info": {
   "codemirror_mode": {
    "name": "ipython",
    "version": 3
   },
   "file_extension": ".py",
   "mimetype": "text/x-python",
   "name": "python",
   "nbconvert_exporter": "python",
   "pygments_lexer": "ipython3",
   "version": "3.13.5"
  }
 },
 "nbformat": 4,
 "nbformat_minor": 5
}
