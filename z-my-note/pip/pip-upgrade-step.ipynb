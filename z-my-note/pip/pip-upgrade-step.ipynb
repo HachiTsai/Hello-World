{
 "cells": [
  {
   "cell_type": "code",
   "execution_count": null,
   "id": "4362a102",
   "metadata": {},
   "outputs": [],
   "source": [
    "# Check for outdated packages\n",
    "%pip list --outdated\n",
    "%pip list --outdated > outdated.txt"
   ]
  },
  {
   "cell_type": "code",
   "execution_count": null,
   "id": "9dea3f2e",
   "metadata": {},
   "outputs": [],
   "source": [
    "#20250828執行過\n",
    "%pip install pip-tools"
   ]
  },
  {
   "cell_type": "code",
   "execution_count": null,
   "id": "f4ca2728",
   "metadata": {},
   "outputs": [],
   "source": [
    "# convert_outdated_to_requirements.py\n",
    "with open(\"outdated.txt\", \"r\", encoding=\"utf-8\") as f:\n",
    "    lines = f.readlines()\n",
    "\n",
    "requirements = []\n",
    "for line in lines[2:]:  # 跳過前兩行標題\n",
    "    parts = line.strip().split()\n",
    "    if len(parts) >= 3:\n",
    "        pkg, _, latest = parts[:3]\n",
    "        requirements.append(f\"{pkg}=={latest}\")\n",
    "\n",
    "with open(\"requirements.txt\", \"w\", encoding=\"utf-8\") as f:\n",
    "    f.write(\"\\n\".join(requirements))\n",
    "\n",
    "print(\"✅ requirements.txt 已成功產生！\")\n"
   ]
  },
  {
   "cell_type": "code",
   "execution_count": null,
   "id": "a4340367",
   "metadata": {},
   "outputs": [],
   "source": [
    "%pip install --upgrade -r requirements.txt"
   ]
  }
 ],
 "metadata": {
  "kernelspec": {
   "display_name": "myenv-mac",
   "language": "python",
   "name": "python3"
  },
  "language_info": {
   "codemirror_mode": {
    "name": "ipython",
    "version": 3
   },
   "file_extension": ".py",
   "mimetype": "text/x-python",
   "name": "python",
   "nbconvert_exporter": "python",
   "pygments_lexer": "ipython3",
   "version": "3.13.5"
  }
 },
 "nbformat": 4,
 "nbformat_minor": 5
}
